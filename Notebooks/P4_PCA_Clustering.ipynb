{
 "cells": [
  {
   "cell_type": "markdown",
   "metadata": {},
   "source": [
    "# Metis Data Science Bootcamp\n",
    "## San Francisco, Winter 2020\n",
    "### Project 4: Election Reporting Sentiment Analysis\n",
    "\n",
    "### Topic Modeling"
   ]
  },
  {
   "cell_type": "code",
   "execution_count": 1,
   "metadata": {},
   "outputs": [],
   "source": [
    "import sys\n",
    "import re\n",
    "import os.path\n",
    "import requests\n",
    "import time\n",
    "import pandas as pd\n",
    "import numpy as np\n",
    "\n",
    "from os import path\n",
    "\n",
    "import matplotlib.pyplot as plt\n",
    "import seaborn as sns\n",
    "\n",
    "from pymongo import MongoClient"
   ]
  },
  {
   "cell_type": "code",
   "execution_count": 2,
   "metadata": {},
   "outputs": [],
   "source": [
    "from sklearn.feature_extraction.text import CountVectorizer \n",
    "from sklearn.feature_extraction.text import TfidfVectorizer\n",
    "from sklearn.decomposition import LatentDirichletAllocation\n",
    "from sklearn.decomposition import TruncatedSVD\n",
    "from sklearn.decomposition import NMF\n",
    "from sklearn.decomposition import PCA\n",
    "from sklearn.metrics.pairwise import cosine_similarity\n",
    "from sklearn.cluster import KMeans\n",
    "\n",
    "import spacy\n",
    "from spacy import displacy\n",
    "from pprint import pprint\n",
    "from collections import Counter\n",
    "import en_core_web_sm\n",
    "nlp = en_core_web_sm.load()\n",
    "\n",
    "import re\n",
    "import string\n",
    "\n",
    "from spacy.lang.en import English\n",
    "nlp = spacy.load(\"en_core_web_sm\")"
   ]
  },
  {
   "cell_type": "code",
   "execution_count": 3,
   "metadata": {},
   "outputs": [],
   "source": [
    "db_client = MongoClient()\n",
    "db_news = db_client['news_search']\n",
    "db_news_col = db_news['search_result']"
   ]
  },
  {
   "cell_type": "code",
   "execution_count": 4,
   "metadata": {},
   "outputs": [],
   "source": [
    "db_news_content = db_news['news_content']\n",
    "cursor = db_news_content.find({}, {'_id':0, 'name': 1, 'text': 1, 'url' : 1, 'base_url' : 1, 'pub_date': 1})"
   ]
  },
  {
   "cell_type": "code",
   "execution_count": 5,
   "metadata": {},
   "outputs": [
    {
     "name": "stdout",
     "output_type": "stream",
     "text": [
      "3795\n"
     ]
    }
   ],
   "source": [
    "cursor = db_news_content.find({}, {'_id':0, 'name': 1, 'text': 1, 'url' : 1, 'base_url' : 1, 'pub_date': 1})\n",
    "print(len(list(cursor)))"
   ]
  },
  {
   "cell_type": "code",
   "execution_count": 6,
   "metadata": {},
   "outputs": [],
   "source": [
    "db_news_content = db_news['news_content']\n",
    "\n"
   ]
  },
  {
   "cell_type": "code",
   "execution_count": 7,
   "metadata": {},
   "outputs": [],
   "source": [
    "cursor = db_news_content.find({}, {'_id':1, 'text': 1, 'short_text' : 1 , 'prop_nouns' : 1})\n",
    "articles = list(cursor)\n",
    "X_nouns = []\n",
    "X_what = []\n",
    "y = []\n",
    "for article in articles :\n",
    "    X_what.append(article['short_text'])\n",
    "    y.append(article['_id'])"
   ]
  },
  {
   "cell_type": "code",
   "execution_count": 8,
   "metadata": {},
   "outputs": [],
   "source": [
    "def print_top_words(model, feature_names, n_top_words):\n",
    "    for topic_idx, topic in enumerate(model.components_):\n",
    "        message = \"Topic #%d: \" % topic_idx\n",
    "        message += \" \".join([feature_names[i]\n",
    "                             for i in topic.argsort()[:-n_top_words - 1:-1]])\n",
    "        print(message)\n",
    "    print()"
   ]
  },
  {
   "cell_type": "markdown",
   "metadata": {},
   "source": [
    "## Start with Count Vectorizing"
   ]
  },
  {
   "cell_type": "code",
   "execution_count": 9,
   "metadata": {},
   "outputs": [],
   "source": [
    "# build our corpus\n",
    "corpus = []\n",
    "cursor = db_news_content.find({}, {'_id':1, 'text': 1, 'short_text' : 1, 'prop_nouns' : 1})\n",
    "for article in list(cursor) :\n",
    "    corpus.append(article['short_text'])\n"
   ]
  },
  {
   "cell_type": "code",
   "execution_count": 10,
   "metadata": {},
   "outputs": [],
   "source": [
    "vectorizer = CountVectorizer(stop_words='english', max_df=1.5, max_features=80, ngram_range=(1,2))\n",
    "cv = vectorizer.fit(corpus)\n",
    "\n",
    "X_cv_what = cv.transform(X_what)\n",
    "X_cv_what_df = pd.DataFrame(X_cv_what.toarray(), columns=vectorizer.get_feature_names())\n"
   ]
  },
  {
   "cell_type": "markdown",
   "metadata": {},
   "source": [
    "## Vectorize with TF-IDF"
   ]
  },
  {
   "cell_type": "code",
   "execution_count": 11,
   "metadata": {},
   "outputs": [],
   "source": [
    "tf_vect = TfidfVectorizer(stop_words='english', max_df=1.5, max_features=80, ngram_range=(1,2))\n",
    "tfidf = tf_vect.fit(corpus)\n",
    "\n",
    "X_tf_what = tfidf.transform(X_what)\n",
    "X_tf_what_df = pd.DataFrame(X_cv_what.toarray(), columns=vectorizer.get_feature_names())\n"
   ]
  },
  {
   "cell_type": "code",
   "execution_count": 12,
   "metadata": {},
   "outputs": [],
   "source": [
    "lda_model = LatentDirichletAllocation(n_components=8,               # Number of topics\n",
    "                                      max_iter=10,               # Max learning iterations\n",
    "                                      learning_method='online',   \n",
    "                                      random_state=40,          # Random state\n",
    "                                      batch_size=128,            # n docs in each learning iter\n",
    "                                      evaluate_every = -1,       # compute perplexity every n iters, default: Don't\n",
    "                                      n_jobs = -1,               # Use all available CPUs\n",
    "                                     )\n",
    "\n",
    "lda_output = lda_model.fit_transform(X_cv_what)"
   ]
  },
  {
   "cell_type": "code",
   "execution_count": 13,
   "metadata": {},
   "outputs": [],
   "source": [
    "lda_df = pd.DataFrame(lda_output)"
   ]
  },
  {
   "cell_type": "markdown",
   "metadata": {},
   "source": [
    "Now apply PCA to the TF-IDF vectorized data"
   ]
  },
  {
   "cell_type": "code",
   "execution_count": 14,
   "metadata": {},
   "outputs": [],
   "source": [
    "# Take all of the data and plot it on 2 dimensions\n",
    "pca = PCA(n_components=8)\n",
    "pca.fit(lda_df)\n",
    "pca_lda_what = pca.transform(lda_df)"
   ]
  },
  {
   "cell_type": "code",
   "execution_count": 15,
   "metadata": {},
   "outputs": [],
   "source": [
    "# Take all of the data and plot it on 2 dimensions\n",
    "pca = PCA(n_components=8)\n",
    "pca.fit(X_tf_what_df)\n",
    "pca_tf_what = pca.transform(X_tf_what_df)"
   ]
  },
  {
   "cell_type": "code",
   "execution_count": 16,
   "metadata": {},
   "outputs": [],
   "source": [
    "X_pca_lda_df = pd.DataFrame(pca_lda_what)\n",
    "X_pca_lda_df['_id'] = y"
   ]
  },
  {
   "cell_type": "code",
   "execution_count": 17,
   "metadata": {},
   "outputs": [],
   "source": [
    "X_pca_tf_df = pd.DataFrame(pca_tf_what)\n",
    "X_pca_tf_df['_id'] = y"
   ]
  },
  {
   "cell_type": "markdown",
   "metadata": {},
   "source": [
    "Now Try Clustering"
   ]
  },
  {
   "cell_type": "code",
   "execution_count": 18,
   "metadata": {},
   "outputs": [],
   "source": [
    "# helper function that allows us to display data in 2 dimensions an highlights the clusters\n",
    "def display_cluster(X,km=[],num_clusters=0):\n",
    "    color = 'brgcmykbrgcmyk'\n",
    "    alpha = 0.5\n",
    "    s = 20\n",
    "    if num_clusters == 0:\n",
    "        plt.scatter(X[:,0],X[:,1],c = color[0],alpha = alpha,s = s)\n",
    "    else:\n",
    "        for i in range(num_clusters):\n",
    "            plt.scatter(X[km.labels_==i,0],X[km.labels_==i,1],c = color[i],alpha = alpha,s=s)\n",
    "            plt.scatter(km.cluster_centers_[i][0],km.cluster_centers_[i][1],c = color[i], marker = 'x', s = 100)"
   ]
  },
  {
   "cell_type": "code",
   "execution_count": 19,
   "metadata": {},
   "outputs": [],
   "source": [
    "plt.rcParams['figure.figsize'] = [6,6]\n",
    "sns.set_style(\"whitegrid\")\n",
    "sns.set_context(\"talk\")"
   ]
  },
  {
   "cell_type": "code",
   "execution_count": 20,
   "metadata": {},
   "outputs": [
    {
     "data": {
      "image/png": "[encoded data removed]",
      "text/plain": [
       "<Figure size 432x432 with 1 Axes>"
      ]
     },
     "metadata": {},
     "output_type": "display_data"
    }
   ],
   "source": [
    "num_clusters = 8\n",
    "km = KMeans(n_clusters=num_clusters,random_state=100,n_init=1) # n_init, number of times the K-mean algorithm will run\n",
    "km.fit(pca_tf_what)\n",
    "display_cluster(pca_tf_what,km,num_clusters)"
   ]
  },
  {
   "cell_type": "code",
   "execution_count": 21,
   "metadata": {},
   "outputs": [
    {
     "data": {
      "text/plain": [
       "array([1, 1, 1, ..., 1, 1, 5], dtype=int32)"
      ]
     },
     "execution_count": 21,
     "metadata": {},
     "output_type": "execute_result"
    }
   ],
   "source": [
    "km.labels_"
   ]
  },
  {
   "cell_type": "code",
   "execution_count": 22,
   "metadata": {},
   "outputs": [],
   "source": [
    "# Add the cluster assignment to the dataframe\n",
    "X_pca_tf_df['cluster'] = km.labels_"
   ]
  },
  {
   "cell_type": "markdown",
   "metadata": {},
   "source": [
    "Add the cluster ID to the dataframe"
   ]
  },
  {
   "cell_type": "code",
   "execution_count": 23,
   "metadata": {},
   "outputs": [
    {
     "data": {
      "text/html": [
       "<div>\n",
       "<style scoped>\n",
       "    .dataframe tbody tr th:only-of-type {\n",
       "        vertical-align: middle;\n",
       "    }\n",
       "\n",
       "    .dataframe tbody tr th {\n",
       "        vertical-align: top;\n",
       "    }\n",
       "\n",
       "    .dataframe thead th {\n",
       "        text-align: right;\n",
       "    }\n",
       "</style>\n",
       "<table border=\"1\" class=\"dataframe\">\n",
       "  <thead>\n",
       "    <tr style=\"text-align: right;\">\n",
       "      <th></th>\n",
       "      <th>0</th>\n",
       "      <th>1</th>\n",
       "      <th>2</th>\n",
       "      <th>3</th>\n",
       "      <th>4</th>\n",
       "      <th>5</th>\n",
       "      <th>6</th>\n",
       "      <th>7</th>\n",
       "      <th>_id</th>\n",
       "      <th>cluster</th>\n",
       "    </tr>\n",
       "  </thead>\n",
       "  <tbody>\n",
       "    <tr>\n",
       "      <th>0</th>\n",
       "      <td>-5.731547</td>\n",
       "      <td>-1.233145</td>\n",
       "      <td>-2.594547</td>\n",
       "      <td>-4.296178</td>\n",
       "      <td>-0.413558</td>\n",
       "      <td>-0.606760</td>\n",
       "      <td>-1.074658</td>\n",
       "      <td>1.858781</td>\n",
       "      <td>5e4d93b4bdc708691b5225e0</td>\n",
       "      <td>1</td>\n",
       "    </tr>\n",
       "    <tr>\n",
       "      <th>1</th>\n",
       "      <td>-8.664846</td>\n",
       "      <td>1.174640</td>\n",
       "      <td>-0.104269</td>\n",
       "      <td>-2.859742</td>\n",
       "      <td>-0.386958</td>\n",
       "      <td>-0.755749</td>\n",
       "      <td>-0.269392</td>\n",
       "      <td>0.170506</td>\n",
       "      <td>5e4d93b5bdc708691b5225e1</td>\n",
       "      <td>1</td>\n",
       "    </tr>\n",
       "    <tr>\n",
       "      <th>2</th>\n",
       "      <td>-4.540552</td>\n",
       "      <td>-3.933435</td>\n",
       "      <td>-3.851926</td>\n",
       "      <td>-2.598602</td>\n",
       "      <td>-0.335037</td>\n",
       "      <td>-2.821694</td>\n",
       "      <td>-2.071665</td>\n",
       "      <td>2.602415</td>\n",
       "      <td>5e4d93b5bdc708691b5225e2</td>\n",
       "      <td>1</td>\n",
       "    </tr>\n",
       "    <tr>\n",
       "      <th>3</th>\n",
       "      <td>-1.523646</td>\n",
       "      <td>-2.907617</td>\n",
       "      <td>-0.646962</td>\n",
       "      <td>-1.645892</td>\n",
       "      <td>-0.043419</td>\n",
       "      <td>-0.016066</td>\n",
       "      <td>-4.797053</td>\n",
       "      <td>-1.337286</td>\n",
       "      <td>5e4d93b5bdc708691b5225e3</td>\n",
       "      <td>1</td>\n",
       "    </tr>\n",
       "    <tr>\n",
       "      <th>4</th>\n",
       "      <td>-10.562520</td>\n",
       "      <td>1.891049</td>\n",
       "      <td>0.946712</td>\n",
       "      <td>-2.007829</td>\n",
       "      <td>-0.092276</td>\n",
       "      <td>-0.344332</td>\n",
       "      <td>-0.194934</td>\n",
       "      <td>0.262232</td>\n",
       "      <td>5e4d93b6bdc708691b5225e4</td>\n",
       "      <td>1</td>\n",
       "    </tr>\n",
       "  </tbody>\n",
       "</table>\n",
       "</div>"
      ],
      "text/plain": [
       "           0         1         2         3         4         5         6  \\\n",
       "0  -5.731547 -1.233145 -2.594547 -4.296178 -0.413558 -0.606760 -1.074658   \n",
       "1  -8.664846  1.174640 -0.104269 -2.859742 -0.386958 -0.755749 -0.269392   \n",
       "2  -4.540552 -3.933435 -3.851926 -2.598602 -0.335037 -2.821694 -2.071665   \n",
       "3  -1.523646 -2.907617 -0.646962 -1.645892 -0.043419 -0.016066 -4.797053   \n",
       "4 -10.562520  1.891049  0.946712 -2.007829 -0.092276 -0.344332 -0.194934   \n",
       "\n",
       "          7                       _id  cluster  \n",
       "0  1.858781  5e4d93b4bdc708691b5225e0        1  \n",
       "1  0.170506  5e4d93b5bdc708691b5225e1        1  \n",
       "2  2.602415  5e4d93b5bdc708691b5225e2        1  \n",
       "3 -1.337286  5e4d93b5bdc708691b5225e3        1  \n",
       "4  0.262232  5e4d93b6bdc708691b5225e4        1  "
      ]
     },
     "execution_count": 23,
     "metadata": {},
     "output_type": "execute_result"
    }
   ],
   "source": [
    "X_pca_tf_df.head()"
   ]
  },
  {
   "cell_type": "code",
   "execution_count": 24,
   "metadata": {},
   "outputs": [],
   "source": [
    "db_client = MongoClient()\n",
    "db_news = db_client['news_search']\n",
    "db_news_col = db_news['search_result']\n",
    "db_news_content = db_news['news_content']"
   ]
  },
  {
   "cell_type": "code",
   "execution_count": 26,
   "metadata": {},
   "outputs": [],
   "source": [
    "def get_feature_count(vect, data, num):\n",
    "    out_list = []\n",
    "    for i in range(1,num+1):\n",
    "        idx_list = data.argsort()\n",
    "        out_list.append([vect.get_feature_names()[idx_list[-i]], data[idx_list[-i]]])\n",
    "        \n",
    "    return(out_list)"
   ]
  },
  {
   "cell_type": "code",
   "execution_count": 27,
   "metadata": {},
   "outputs": [],
   "source": [
    "def print_feature_count(vect, data, num):\n",
    "    for pair in get_feature_count(vect, data, num):\n",
    "        print(pair)"
   ]
  },
  {
   "cell_type": "code",
   "execution_count": 28,
   "metadata": {
    "jupyter": {
     "source_hidden": true
    }
   },
   "outputs": [
    {
     "name": "stdout",
     "output_type": "stream",
     "text": [
      "Cluster 0\n",
      "823932\n",
      "Cluster 1\n",
      "2870792\n",
      "Cluster 2\n",
      "658167\n",
      "Cluster 3\n",
      "290227\n",
      "Cluster 4\n",
      "1093909\n",
      "Cluster 5\n",
      "2217934\n",
      "Cluster 6\n",
      "1122579\n"
     ]
    }
   ],
   "source": [
    "vectorizer = CountVectorizer(stop_words='english', max_df=1.5, max_features=80, ngram_range=(1,1))\n",
    "topic_list = []\n",
    "# Run through each cluster and make a cluster corpus\n",
    "for cluster in range(7) :\n",
    "    cluster_corpus = ''\n",
    "    for idx in X_pca_tf_df.index :\n",
    "        if X_pca_tf_df.loc[idx, 'cluster'] == cluster :\n",
    "            cursor = db_news_content.find({'_id': X_pca_tf_df.loc[idx, '_id']},{'short_text': 1})\n",
    "            article = list(cursor)[0]\n",
    "            cluster_corpus += article['short_text']\n",
    "    print(f'Cluster {cluster}')\n",
    "    print(len(cluster_corpus))\n",
    "    \n",
    "    # Run the cluster corpus through count vectorizer\n",
    "    corpus_count = vectorizer.fit_transform([cluster_corpus])\n",
    "    \n",
    "    # print the top words\n",
    "    topic_list.append(get_feature_count(vectorizer, corpus_count.toarray()[0], 5))"
   ]
  },
  {
   "cell_type": "code",
   "execution_count": 29,
   "metadata": {},
   "outputs": [
    {
     "data": {
      "text/plain": [
       "[[['biden', 4604],\n",
       "  ['sander', 1168],\n",
       "  ['iowa', 1026],\n",
       "  ['trump', 974],\n",
       "  ['hampshire', 927]],\n",
       " [['sander', 4088],\n",
       "  ['warren', 2814],\n",
       "  ['trump', 2706],\n",
       "  ['biden', 2706],\n",
       "  ['buttigieg', 2468]],\n",
       " [['warren', 3341],\n",
       "  ['sander', 975],\n",
       "  ['iowa', 618],\n",
       "  ['hampshire', 565],\n",
       "  ['debate', 480]],\n",
       " [['iowa', 1005],\n",
       "  ['caucus', 905],\n",
       "  ['result', 889],\n",
       "  ['sander', 443],\n",
       "  ['buttigieg', 400]],\n",
       " [['sander', 4713],\n",
       "  ['trump', 1545],\n",
       "  ['biden', 1304],\n",
       "  ['voter', 1027],\n",
       "  ['buttigieg', 973]],\n",
       " [['buttigieg', 4871],\n",
       "  ['sander', 3885],\n",
       "  ['iowa', 3761],\n",
       "  ['caucus', 2257],\n",
       "  ['biden', 2220]],\n",
       " [['bloomberg', 4765],\n",
       "  ['trump', 1730],\n",
       "  ['debate', 1371],\n",
       "  ['sander', 1286],\n",
       "  ['warren', 910]]]"
      ]
     },
     "execution_count": 29,
     "metadata": {},
     "output_type": "execute_result"
    }
   ],
   "source": [
    "topic_list"
   ]
  },
  {
   "cell_type": "code",
   "execution_count": null,
   "metadata": {},
   "outputs": [],
   "source": [
    "Topic #0: biden voter poll steyer carolina\n",
    "Topic #1: trump biden democrats sander election\n",
    "Topic #2: buttigieg iowa caucus campaign result\n",
    "Topic #3: plan health care policy issue\n",
    "Topic #4: sander campaign vote primary supporter\n",
    "Topic #5: people know right like year\n",
    "Topic #6: bloomberg campaign debate york billionaire\n",
    "Topic #7: warren woman campaign debate hampshire"
   ]
  },
  {
   "cell_type": "code",
   "execution_count": 60,
   "metadata": {},
   "outputs": [
    {
     "data": {
      "text/plain": [
       "array([41, 14, 35, 52, 42,  1, 21, 36, 16, 67, 55, 68, 43, 61, 28, 24, 65,\n",
       "        3, 57, 63,  0,  9, 45, 49, 34, 25, 60, 53, 47, 15, 32, 79,  7, 22,\n",
       "       18, 40, 13, 38, 11, 56, 10, 54, 20, 76, 75, 19, 73, 77, 26, 37, 46,\n",
       "       48,  8, 50, 39, 66, 12, 29, 71, 72, 62, 31, 23, 33, 69, 78, 64, 58,\n",
       "       17, 30, 44, 51, 27,  4,  2, 70,  5, 74, 59,  6])"
      ]
     },
     "execution_count": 60,
     "metadata": {},
     "output_type": "execute_result"
    }
   ],
   "source": [
    "a_idx_list = a_cc.argsort()\n",
    "a_idx_list"
   ]
  },
  {
   "cell_type": "code",
   "execution_count": 64,
   "metadata": {},
   "outputs": [],
   "source": [
    "feature_count = a_cc[a_idx_list[-2]]\n",
    "feature_name = vectorizer.get_feature_names()[a_idx_list[-2]]"
   ]
  },
  {
   "cell_type": "code",
   "execution_count": 65,
   "metadata": {},
   "outputs": [
    {
     "data": {
      "text/plain": [
       "('campaign', 3775)"
      ]
     },
     "execution_count": 65,
     "metadata": {},
     "output_type": "execute_result"
    }
   ],
   "source": [
    "feature_name, feature_count"
   ]
  },
  {
   "cell_type": "code",
   "execution_count": 79,
   "metadata": {},
   "outputs": [
    {
     "name": "stdout",
     "output_type": "stream",
     "text": [
      "['campaign', 3775]\n",
      "['sander', 3280]\n",
      "['warren', 2702]\n",
      "['buttigieg', 2569]\n",
      "['trump', 2513]\n",
      "['biden', 2501]\n",
      "['bloomberg', 2376]\n",
      "['iowa', 2046]\n",
      "['primary', 1718]\n",
      "['people', 1715]\n"
     ]
    }
   ],
   "source": [
    "print_feature_count(vectorizer, corpus_count.toarray()[0], 10)"
   ]
  },
  {
   "cell_type": "code",
   "execution_count": null,
   "metadata": {},
   "outputs": [],
   "source": []
  }
 ],
 "metadata": {
  "kernelspec": {
   "display_name": "Python 3",
   "language": "python",
   "name": "python3"
  },
  "language_info": {
   "codemirror_mode": {
    "name": "ipython",
    "version": 3
   },
   "file_extension": ".py",
   "mimetype": "text/x-python",
   "name": "python",
   "nbconvert_exporter": "python",
   "pygments_lexer": "ipython3",
   "version": "3.7.4"
  }
 },
 "nbformat": 4,
 "nbformat_minor": 4
}
