{
 "cells": [
  {
   "cell_type": "markdown",
   "metadata": {},
   "source": [
    "# Metis Data Science Bootcamp\n",
    "## San Francisco, Winter 2020\n",
    "### Project 4: Election Reporting Sentiment Analysis\n",
    "\n",
    "### Topic Modeling"
   ]
  },
  {
   "cell_type": "code",
   "execution_count": 4,
   "metadata": {},
   "outputs": [],
   "source": [
    "import sys\n",
    "import re\n",
    "import os.path\n",
    "import requests\n",
    "import time\n",
    "import pandas as pd\n",
    "import numpy as np\n",
    "\n",
    "from os import path\n",
    "\n",
    "from pymongo import MongoClient"
   ]
  },
  {
   "cell_type": "code",
   "execution_count": 5,
   "metadata": {},
   "outputs": [],
   "source": [
    "from sklearn.feature_extraction.text import CountVectorizer \n",
    "from sklearn.feature_extraction.text import TfidfVectorizer\n",
    "from sklearn.decomposition import LatentDirichletAllocation\n",
    "from sklearn.decomposition import TruncatedSVD\n",
    "from sklearn.decomposition import NMF\n",
    "from sklearn.decomposition import PCA\n",
    "from sklearn.metrics.pairwise import cosine_similarity\n",
    "\n",
    "import spacy\n",
    "from spacy import displacy\n",
    "from pprint import pprint\n",
    "from collections import Counter\n",
    "import en_core_web_sm\n",
    "nlp = en_core_web_sm.load()\n",
    "\n",
    "import re\n",
    "import string\n",
    "\n",
    "from spacy.lang.en import English\n",
    "nlp = spacy.load(\"en_core_web_sm\")"
   ]
  },
  {
   "cell_type": "code",
   "execution_count": 6,
   "metadata": {},
   "outputs": [],
   "source": [
    "from gensim.models import LdaModel"
   ]
  },
  {
   "cell_type": "code",
   "execution_count": 7,
   "metadata": {},
   "outputs": [],
   "source": [
    "db_client = MongoClient()\n",
    "db_news = db_client['news_search']\n",
    "db_news_col = db_news['search_result']"
   ]
  },
  {
   "cell_type": "code",
   "execution_count": 8,
   "metadata": {},
   "outputs": [],
   "source": [
    "db_news_content = db_news['news_content']\n",
    "cursor = db_news_content.find({}, {'_id':0, 'name': 1, 'text': 1, 'url' : 1, 'base_url' : 1, 'pub_date': 1})"
   ]
  },
  {
   "cell_type": "code",
   "execution_count": 9,
   "metadata": {},
   "outputs": [
    {
     "name": "stdout",
     "output_type": "stream",
     "text": [
      "3795\n"
     ]
    }
   ],
   "source": [
    "cursor = db_news_content.find({}, {'_id':0, 'name': 1, 'text': 1, 'url' : 1, 'base_url' : 1, 'pub_date': 1})\n",
    "print(len(list(cursor)))"
   ]
  },
  {
   "cell_type": "code",
   "execution_count": 10,
   "metadata": {},
   "outputs": [],
   "source": [
    "db_news_content = db_news['news_content']\n",
    "\n"
   ]
  },
  {
   "cell_type": "code",
   "execution_count": 11,
   "metadata": {},
   "outputs": [],
   "source": [
    "cursor = db_news_content.find({}, {'_id':1, 'text': 1, 'short_text' : 1 , 'prop_nouns' : 1})\n",
    "articles = list(cursor)\n",
    "X_nouns = []\n",
    "X_what = []\n",
    "y = []\n",
    "for article in articles :\n",
    "    X_what.append(article['short_text'])\n",
    "    y.append(article['_id'])"
   ]
  },
  {
   "cell_type": "code",
   "execution_count": 12,
   "metadata": {},
   "outputs": [],
   "source": [
    "def print_top_words(model, feature_names, n_top_words):\n",
    "    for topic_idx, topic in enumerate(model.components_):\n",
    "        message = \"Topic #%d: \" % topic_idx\n",
    "        message += \" \".join([feature_names[i]\n",
    "                             for i in topic.argsort()[:-n_top_words - 1:-1]])\n",
    "        print(message)\n",
    "    print()"
   ]
  },
  {
   "cell_type": "markdown",
   "metadata": {},
   "source": [
    "## Start with Count Vectorizing"
   ]
  },
  {
   "cell_type": "code",
   "execution_count": 13,
   "metadata": {},
   "outputs": [],
   "source": [
    "# build our corpus\n",
    "corpus = []\n",
    "cursor = db_news_content.find({}, {'_id':1, 'text': 1, 'short_text' : 1, 'prop_nouns' : 1})\n",
    "for article in list(cursor) :\n",
    "    corpus.append(article['short_text'])\n"
   ]
  },
  {
   "cell_type": "code",
   "execution_count": 14,
   "metadata": {},
   "outputs": [],
   "source": [
    "vectorizer = CountVectorizer(stop_words='english', max_df=1.5, max_features=80, ngram_range=(1,2))\n",
    "cv = vectorizer.fit(corpus)\n",
    "\n",
    "X_cv_what = cv.transform(X_what)\n",
    "X_cv_what_df = pd.DataFrame(X_cv_what.toarray(), columns=vectorizer.get_feature_names())\n"
   ]
  },
  {
   "cell_type": "markdown",
   "metadata": {},
   "source": [
    "## Vectorize with TF-IDF"
   ]
  },
  {
   "cell_type": "code",
   "execution_count": 15,
   "metadata": {},
   "outputs": [],
   "source": [
    "tf_vect = TfidfVectorizer(stop_words='english', max_df=1.5, max_features=80, ngram_range=(1,2))\n",
    "tfidf = tf_vect.fit(corpus)\n",
    "\n",
    "X_tf_what = tfidf.transform(X_what)\n",
    "X_tf_what_df = pd.DataFrame(X_cv_what.toarray(), columns=vectorizer.get_feature_names())\n"
   ]
  },
  {
   "cell_type": "markdown",
   "metadata": {},
   "source": [
    "## LDA\n",
    "Prep some values for later visualization"
   ]
  },
  {
   "cell_type": "code",
   "execution_count": 16,
   "metadata": {},
   "outputs": [],
   "source": [
    "sum_words = X_cv_what.sum(axis=0)\n",
    "words_freq = [(word, sum_words[0, idx]) for word, idx in cv.vocabulary_.items()]\n",
    "words_freq =sorted(words_freq[:300], key = lambda x: x[1], reverse=True)\n",
    "top_words = [word[0].upper() for word in words_freq]"
   ]
  },
  {
   "cell_type": "code",
   "execution_count": 17,
   "metadata": {},
   "outputs": [],
   "source": [
    "lda_model = LatentDirichletAllocation(n_components=8,               # Number of topics\n",
    "                                      max_iter=10,               # Max learning iterations\n",
    "                                      learning_method='online',   \n",
    "                                      random_state=100,          # Random state\n",
    "                                      batch_size=128,            # n docs in each learning iter\n",
    "                                      evaluate_every = -1,       # compute perplexity every n iters, default: Don't\n",
    "                                      n_jobs = -1,               # Use all available CPUs\n",
    "                                     )\n",
    "\n",
    "lda_output = lda_model.fit_transform(X_cv_what)"
   ]
  },
  {
   "cell_type": "code",
   "execution_count": 33,
   "metadata": {},
   "outputs": [
    {
     "name": "stdout",
     "output_type": "stream",
     "text": [
      "Topic #0: debate steyer bloomberg billionaire million\n",
      "Topic #1: biden voter poll sander hampshire\n",
      "Topic #2: caucus iowa result delegate sander\n",
      "Topic #3: iowa buttigieg people event year\n",
      "Topic #4: buttigieg klobuchar black debate hampshire\n",
      "Topic #5: sander biden trump democrats year\n",
      "Topic #6: bloomberg trump york people city\n",
      "Topic #7: warren woman sander plan debate\n",
      "\n"
     ]
    }
   ],
   "source": [
    "print_top_words(lda_model, vectorizer.get_feature_names(), 5)"
   ]
  },
  {
   "cell_type": "code",
   "execution_count": 34,
   "metadata": {},
   "outputs": [
    {
     "name": "stderr",
     "output_type": "stream",
     "text": [
      "/Users/maboals/opt/anaconda3/lib/python3.7/site-packages/pyLDAvis/_prepare.py:257: FutureWarning: Sorting because non-concatenation axis is not aligned. A future version\n",
      "of pandas will change to not sort by default.\n",
      "\n",
      "To accept the future behavior, pass 'sort=False'.\n",
      "\n",
      "To retain the current behavior and silence the warning, pass 'sort=True'.\n",
      "\n",
      "  return pd.concat([default_term_info] + list(topic_dfs))\n"
     ]
    }
   ],
   "source": [
    "\n",
    "import sklearn\n",
    "import pyLDAvis\n",
    "import pyLDAvis.sklearn\n",
    "\n",
    "pyLDAvis.enable_notebook()\n",
    "ldavizdata = pyLDAvis.sklearn.prepare(lda_model, X_cv_what, cv, mds='tsne')\n",
    "pyLDAvis.save_html(ldavizdata, 'pyLDA_Full_Corpus.html')"
   ]
  },
  {
   "cell_type": "code",
   "execution_count": 35,
   "metadata": {},
   "outputs": [],
   "source": [
    "# Using the output above we can name the topics\n",
    "topic_what_labels = ['Sanders Trump', 'People', 'Biden', 'Bloomberg',\\\n",
    "                     'Iowa Caucus Result', 'Buttigieg', 'Voter Steyer', 'Warren']"
   ]
  },
  {
   "cell_type": "markdown",
   "metadata": {},
   "source": [
    "## Truncated Singular Value Decomposition"
   ]
  },
  {
   "cell_type": "code",
   "execution_count": 36,
   "metadata": {},
   "outputs": [
    {
     "data": {
      "text/plain": [
       "0.7629901953932308"
      ]
     },
     "execution_count": 36,
     "metadata": {},
     "output_type": "execute_result"
    }
   ],
   "source": [
    "lsa_cv = TruncatedSVD(15)\n",
    "X_cv_topic_what = lsa_cv.fit_transform(X_cv_what)\n",
    "\n",
    "sum(lsa_cv.explained_variance_ratio_)"
   ]
  },
  {
   "cell_type": "code",
   "execution_count": null,
   "metadata": {},
   "outputs": [],
   "source": []
  },
  {
   "cell_type": "code",
   "execution_count": 37,
   "metadata": {},
   "outputs": [
    {
     "data": {
      "text/html": [
       "<div>\n",
       "<style scoped>\n",
       "    .dataframe tbody tr th:only-of-type {\n",
       "        vertical-align: middle;\n",
       "    }\n",
       "\n",
       "    .dataframe tbody tr th {\n",
       "        vertical-align: top;\n",
       "    }\n",
       "\n",
       "    .dataframe thead th {\n",
       "        text-align: right;\n",
       "    }\n",
       "</style>\n",
       "<table border=\"1\" class=\"dataframe\">\n",
       "  <thead>\n",
       "    <tr style=\"text-align: right;\">\n",
       "      <th></th>\n",
       "      <th>0</th>\n",
       "      <th>1</th>\n",
       "      <th>2</th>\n",
       "      <th>3</th>\n",
       "      <th>4</th>\n",
       "      <th>5</th>\n",
       "      <th>6</th>\n",
       "      <th>7</th>\n",
       "      <th>_id</th>\n",
       "    </tr>\n",
       "  </thead>\n",
       "  <tbody>\n",
       "    <tr>\n",
       "      <th>0</th>\n",
       "      <td>0.003686</td>\n",
       "      <td>0.003679</td>\n",
       "      <td>0.141323</td>\n",
       "      <td>0.003685</td>\n",
       "      <td>0.003682</td>\n",
       "      <td>0.267660</td>\n",
       "      <td>0.402518</td>\n",
       "      <td>0.173766</td>\n",
       "      <td>5e4d93b4bdc708691b5225e0</td>\n",
       "    </tr>\n",
       "    <tr>\n",
       "      <th>1</th>\n",
       "      <td>0.006587</td>\n",
       "      <td>0.006591</td>\n",
       "      <td>0.006594</td>\n",
       "      <td>0.006588</td>\n",
       "      <td>0.006585</td>\n",
       "      <td>0.313239</td>\n",
       "      <td>0.647229</td>\n",
       "      <td>0.006588</td>\n",
       "      <td>5e4d93b5bdc708691b5225e1</td>\n",
       "    </tr>\n",
       "    <tr>\n",
       "      <th>2</th>\n",
       "      <td>0.002407</td>\n",
       "      <td>0.002406</td>\n",
       "      <td>0.002406</td>\n",
       "      <td>0.002409</td>\n",
       "      <td>0.002405</td>\n",
       "      <td>0.575374</td>\n",
       "      <td>0.410186</td>\n",
       "      <td>0.002407</td>\n",
       "      <td>5e4d93b5bdc708691b5225e2</td>\n",
       "    </tr>\n",
       "    <tr>\n",
       "      <th>3</th>\n",
       "      <td>0.273301</td>\n",
       "      <td>0.563376</td>\n",
       "      <td>0.154377</td>\n",
       "      <td>0.001788</td>\n",
       "      <td>0.001789</td>\n",
       "      <td>0.001789</td>\n",
       "      <td>0.001790</td>\n",
       "      <td>0.001789</td>\n",
       "      <td>5e4d93b5bdc708691b5225e3</td>\n",
       "    </tr>\n",
       "    <tr>\n",
       "      <th>4</th>\n",
       "      <td>0.062533</td>\n",
       "      <td>0.062514</td>\n",
       "      <td>0.062509</td>\n",
       "      <td>0.562062</td>\n",
       "      <td>0.062526</td>\n",
       "      <td>0.062569</td>\n",
       "      <td>0.062677</td>\n",
       "      <td>0.062611</td>\n",
       "      <td>5e4d93b6bdc708691b5225e4</td>\n",
       "    </tr>\n",
       "  </tbody>\n",
       "</table>\n",
       "</div>"
      ],
      "text/plain": [
       "          0         1         2         3         4         5         6  \\\n",
       "0  0.003686  0.003679  0.141323  0.003685  0.003682  0.267660  0.402518   \n",
       "1  0.006587  0.006591  0.006594  0.006588  0.006585  0.313239  0.647229   \n",
       "2  0.002407  0.002406  0.002406  0.002409  0.002405  0.575374  0.410186   \n",
       "3  0.273301  0.563376  0.154377  0.001788  0.001789  0.001789  0.001790   \n",
       "4  0.062533  0.062514  0.062509  0.562062  0.062526  0.062569  0.062677   \n",
       "\n",
       "          7                       _id  \n",
       "0  0.173766  5e4d93b4bdc708691b5225e0  \n",
       "1  0.006588  5e4d93b5bdc708691b5225e1  \n",
       "2  0.002407  5e4d93b5bdc708691b5225e2  \n",
       "3  0.001789  5e4d93b5bdc708691b5225e3  \n",
       "4  0.062611  5e4d93b6bdc708691b5225e4  "
      ]
     },
     "execution_count": 37,
     "metadata": {},
     "output_type": "execute_result"
    }
   ],
   "source": [
    "# Put the article ID back into the dataframe so we can keep the data together in sorts.\n",
    "X_lda = pd.DataFrame(lda_output)\n",
    "X_lda['_id'] = y\n",
    "\n",
    "X_lda.head()"
   ]
  },
  {
   "cell_type": "code",
   "execution_count": 38,
   "metadata": {},
   "outputs": [
    {
     "data": {
      "text/html": [
       "<div>\n",
       "<style scoped>\n",
       "    .dataframe tbody tr th:only-of-type {\n",
       "        vertical-align: middle;\n",
       "    }\n",
       "\n",
       "    .dataframe tbody tr th {\n",
       "        vertical-align: top;\n",
       "    }\n",
       "\n",
       "    .dataframe thead th {\n",
       "        text-align: right;\n",
       "    }\n",
       "</style>\n",
       "<table border=\"1\" class=\"dataframe\">\n",
       "  <thead>\n",
       "    <tr style=\"text-align: right;\">\n",
       "      <th></th>\n",
       "      <th>0</th>\n",
       "      <th>1</th>\n",
       "      <th>2</th>\n",
       "      <th>3</th>\n",
       "      <th>4</th>\n",
       "      <th>5</th>\n",
       "      <th>6</th>\n",
       "      <th>7</th>\n",
       "      <th>_id</th>\n",
       "    </tr>\n",
       "  </thead>\n",
       "  <tbody>\n",
       "    <tr>\n",
       "      <th>264</th>\n",
       "      <td>0.001097</td>\n",
       "      <td>0.001098</td>\n",
       "      <td>0.992313</td>\n",
       "      <td>0.001099</td>\n",
       "      <td>0.001098</td>\n",
       "      <td>0.001098</td>\n",
       "      <td>0.001098</td>\n",
       "      <td>0.001098</td>\n",
       "      <td>5e4d97ec76d86711581f107c</td>\n",
       "    </tr>\n",
       "    <tr>\n",
       "      <th>622</th>\n",
       "      <td>0.001147</td>\n",
       "      <td>0.001148</td>\n",
       "      <td>0.991963</td>\n",
       "      <td>0.001148</td>\n",
       "      <td>0.001148</td>\n",
       "      <td>0.001148</td>\n",
       "      <td>0.001148</td>\n",
       "      <td>0.001148</td>\n",
       "      <td>5e4d9bcd76d86711581f11e2</td>\n",
       "    </tr>\n",
       "    <tr>\n",
       "      <th>66</th>\n",
       "      <td>0.001147</td>\n",
       "      <td>0.001148</td>\n",
       "      <td>0.991963</td>\n",
       "      <td>0.001148</td>\n",
       "      <td>0.001148</td>\n",
       "      <td>0.001148</td>\n",
       "      <td>0.001148</td>\n",
       "      <td>0.001148</td>\n",
       "      <td>5e4d941dbdc708691b522622</td>\n",
       "    </tr>\n",
       "    <tr>\n",
       "      <th>374</th>\n",
       "      <td>0.001238</td>\n",
       "      <td>0.001240</td>\n",
       "      <td>0.991325</td>\n",
       "      <td>0.001239</td>\n",
       "      <td>0.001239</td>\n",
       "      <td>0.001239</td>\n",
       "      <td>0.001239</td>\n",
       "      <td>0.001239</td>\n",
       "      <td>5e4d98ae76d86711581f10ea</td>\n",
       "    </tr>\n",
       "    <tr>\n",
       "      <th>3592</th>\n",
       "      <td>0.001304</td>\n",
       "      <td>0.001304</td>\n",
       "      <td>0.990868</td>\n",
       "      <td>0.001305</td>\n",
       "      <td>0.001304</td>\n",
       "      <td>0.001305</td>\n",
       "      <td>0.001305</td>\n",
       "      <td>0.001304</td>\n",
       "      <td>5e549593aa3ffc14697ac14f</td>\n",
       "    </tr>\n",
       "    <tr>\n",
       "      <th>...</th>\n",
       "      <td>...</td>\n",
       "      <td>...</td>\n",
       "      <td>...</td>\n",
       "      <td>...</td>\n",
       "      <td>...</td>\n",
       "      <td>...</td>\n",
       "      <td>...</td>\n",
       "      <td>...</td>\n",
       "      <td>...</td>\n",
       "    </tr>\n",
       "    <tr>\n",
       "      <th>3182</th>\n",
       "      <td>0.001646</td>\n",
       "      <td>0.001646</td>\n",
       "      <td>0.751336</td>\n",
       "      <td>0.123591</td>\n",
       "      <td>0.001647</td>\n",
       "      <td>0.116838</td>\n",
       "      <td>0.001648</td>\n",
       "      <td>0.001647</td>\n",
       "      <td>5e549322aa3ffc14697abfb4</td>\n",
       "    </tr>\n",
       "    <tr>\n",
       "      <th>2254</th>\n",
       "      <td>0.000934</td>\n",
       "      <td>0.136505</td>\n",
       "      <td>0.748786</td>\n",
       "      <td>0.110039</td>\n",
       "      <td>0.000934</td>\n",
       "      <td>0.000935</td>\n",
       "      <td>0.000934</td>\n",
       "      <td>0.000934</td>\n",
       "      <td>5e4f4bc669e593627678417c</td>\n",
       "    </tr>\n",
       "    <tr>\n",
       "      <th>2455</th>\n",
       "      <td>0.033379</td>\n",
       "      <td>0.000778</td>\n",
       "      <td>0.747258</td>\n",
       "      <td>0.215474</td>\n",
       "      <td>0.000777</td>\n",
       "      <td>0.000778</td>\n",
       "      <td>0.000778</td>\n",
       "      <td>0.000778</td>\n",
       "      <td>5e4f4ceb69e5936276784245</td>\n",
       "    </tr>\n",
       "    <tr>\n",
       "      <th>1970</th>\n",
       "      <td>0.013896</td>\n",
       "      <td>0.183534</td>\n",
       "      <td>0.733070</td>\n",
       "      <td>0.013901</td>\n",
       "      <td>0.013902</td>\n",
       "      <td>0.013906</td>\n",
       "      <td>0.013895</td>\n",
       "      <td>0.013897</td>\n",
       "      <td>5e4ebaac071f29602ba1ba8e</td>\n",
       "    </tr>\n",
       "    <tr>\n",
       "      <th>2933</th>\n",
       "      <td>0.002780</td>\n",
       "      <td>0.109618</td>\n",
       "      <td>0.732789</td>\n",
       "      <td>0.002783</td>\n",
       "      <td>0.143686</td>\n",
       "      <td>0.002782</td>\n",
       "      <td>0.002780</td>\n",
       "      <td>0.002783</td>\n",
       "      <td>5e516f6fb93dd2dab3b56d71</td>\n",
       "    </tr>\n",
       "  </tbody>\n",
       "</table>\n",
       "<p>100 rows × 9 columns</p>\n",
       "</div>"
      ],
      "text/plain": [
       "             0         1         2         3         4         5         6  \\\n",
       "264   0.001097  0.001098  0.992313  0.001099  0.001098  0.001098  0.001098   \n",
       "622   0.001147  0.001148  0.991963  0.001148  0.001148  0.001148  0.001148   \n",
       "66    0.001147  0.001148  0.991963  0.001148  0.001148  0.001148  0.001148   \n",
       "374   0.001238  0.001240  0.991325  0.001239  0.001239  0.001239  0.001239   \n",
       "3592  0.001304  0.001304  0.990868  0.001305  0.001304  0.001305  0.001305   \n",
       "...        ...       ...       ...       ...       ...       ...       ...   \n",
       "3182  0.001646  0.001646  0.751336  0.123591  0.001647  0.116838  0.001648   \n",
       "2254  0.000934  0.136505  0.748786  0.110039  0.000934  0.000935  0.000934   \n",
       "2455  0.033379  0.000778  0.747258  0.215474  0.000777  0.000778  0.000778   \n",
       "1970  0.013896  0.183534  0.733070  0.013901  0.013902  0.013906  0.013895   \n",
       "2933  0.002780  0.109618  0.732789  0.002783  0.143686  0.002782  0.002780   \n",
       "\n",
       "             7                       _id  \n",
       "264   0.001098  5e4d97ec76d86711581f107c  \n",
       "622   0.001148  5e4d9bcd76d86711581f11e2  \n",
       "66    0.001148  5e4d941dbdc708691b522622  \n",
       "374   0.001239  5e4d98ae76d86711581f10ea  \n",
       "3592  0.001304  5e549593aa3ffc14697ac14f  \n",
       "...        ...                       ...  \n",
       "3182  0.001647  5e549322aa3ffc14697abfb4  \n",
       "2254  0.000934  5e4f4bc669e593627678417c  \n",
       "2455  0.000778  5e4f4ceb69e5936276784245  \n",
       "1970  0.013897  5e4ebaac071f29602ba1ba8e  \n",
       "2933  0.002783  5e516f6fb93dd2dab3b56d71  \n",
       "\n",
       "[100 rows x 9 columns]"
      ]
     },
     "execution_count": 38,
     "metadata": {},
     "output_type": "execute_result"
    }
   ],
   "source": [
    "# Sort a specific column and look at the results\n",
    "X_sorted = X_lda.sort_values(2, ascending=False)\n",
    "X_sorted.head(100)"
   ]
  },
  {
   "cell_type": "code",
   "execution_count": 39,
   "metadata": {},
   "outputs": [
    {
     "data": {
      "text/plain": [
       "3795"
      ]
     },
     "execution_count": 39,
     "metadata": {},
     "output_type": "execute_result"
    }
   ],
   "source": [
    "db_news_content.delete_many({'base_url' : 'www.wacotrib.com'})\n",
    "cursor = db_news_content.find({}, {'_id':1, 'base_url':1, 'text': 1, 'short_text' : 1 })\n",
    "len(list(cursor))"
   ]
  },
  {
   "cell_type": "code",
   "execution_count": 40,
   "metadata": {},
   "outputs": [],
   "source": [
    "cursor = db_news_content.find({}, {'_id':1, 'base_url':1, 'text': 1, 'short_text' : 1})\n",
    "\n",
    "# find the sentiment associated with each topic\n",
    "def topic_sentiment_check(df, topic_id, num_arts) :\n",
    "    \n",
    "    # Check that the topic specified is in the topic space\n",
    "    if not topic_id in df.columns:\n",
    "        print('Bad topic ID. %d not in topic space' % topic_id)\n",
    "        return\n",
    "    # Sort the values for the specified topic.\n",
    "    X_sorted = df.sort_values(topic_id, ascending=False)\n",
    "    X_sorted = X_sorted.reset_index(drop=True)\n",
    "    \n",
    "    subjectivity_list = []\n",
    "    polarity_list = []  \n",
    "    \n",
    "    # For the requested number of articles\n",
    "    for x in X_sorted.index[:num_arts] :\n",
    "\n",
    "        cursor = db_news_content.find({'_id': X_sorted.loc[x,'_id']} , {'url': 1, 'sentiment':1})\n",
    "        arts = list(cursor)\n",
    "        for article in arts :\n",
    "            polarity = article['sentiment'][0]\n",
    "            polarity_list.append(polarity)\n",
    "            \n",
    "            subjectivity_list.append(article['sentiment'][1])\n",
    "      \n",
    "    return np.mean(polarity_list), np.var(polarity_list), np.mean(subjectivity_list), np.var(subjectivity_list)"
   ]
  },
  {
   "cell_type": "code",
   "execution_count": 54,
   "metadata": {},
   "outputs": [],
   "source": [
    "topic_what_sents = []\n",
    "topic_noun_sents = []\n",
    "\n",
    "for topic in X_lda.columns[:-1] :\n",
    "    topic_what_sents.append([topic, topic_sentiment_check(X_lda, topic, 100)])\n",
    "    "
   ]
  },
  {
   "cell_type": "code",
   "execution_count": 55,
   "metadata": {},
   "outputs": [],
   "source": [
    "import matplotlib.pyplot as plt"
   ]
  },
  {
   "cell_type": "code",
   "execution_count": 56,
   "metadata": {},
   "outputs": [],
   "source": [
    "topics_what = [topic_what_sents[x][0] for x in range(len(topic_what_sents))]\n",
    "topic_what_polarities = [topic_what_sents[x][1][0] for x in range(len(topic_what_sents))]\n",
    "topic_what_polarities_var = [topic_what_sents[x][1][1] for x in range(len(topic_what_sents))]\n",
    "topic_what_subjectivities = [topic_what_sents[x][1][2] for x in range(len(topic_what_sents))]\n",
    "topic_what_subjectivities_var = [topic_what_sents[x][1][3] for x in range(len(topic_what_sents))]\n",
    "\n",
    "topics_noun = [topic_noun_sents[x][0] for x in range(len(topic_noun_sents))]\n",
    "topic_noun_polarities = [topic_noun_sents[x][1][0] for x in range(len(topic_noun_sents))]\n",
    "topic_noun_polarities_var = [topic_noun_sents[x][1][1] for x in range(len(topic_noun_sents))]\n",
    "topic_noun_subjectivities = [topic_noun_sents[x][1][2] for x in range(len(topic_noun_sents))]\n",
    "topic_noun_subjectivities_var = [topic_noun_sents[x][1][3] for x in range(len(topic_noun_sents))]\n"
   ]
  },
  {
   "cell_type": "code",
   "execution_count": 57,
   "metadata": {},
   "outputs": [
    {
     "data": {
      "text/plain": [
       "[0, 1, 2, 3, 4, 5, 6, 7]"
      ]
     },
     "execution_count": 57,
     "metadata": {},
     "output_type": "execute_result"
    }
   ],
   "source": [
    "topics_what\n"
   ]
  },
  {
   "cell_type": "code",
   "execution_count": 58,
   "metadata": {},
   "outputs": [
    {
     "data": {
      "image/png": "[encoded data removed]",
      "text/plain": [
       "<Figure size 720x576 with 1 Axes>"
      ]
     },
     "metadata": {
      "needs_background": "light"
     },
     "output_type": "display_data"
    }
   ],
   "source": [
    "width = 0.35  # the width of the bars\n",
    "nptopics = np.array(topics_what)\n",
    "\n",
    "#fig, ax = plt.subplots(figsize=[10,8])\n",
    "fig = plt.figure(figsize=[10,8])\n",
    "#ax.set_xticks(nptopics)\n",
    "plt.xticks(nptopics, topic_what_labels, rotation=90)\n",
    "\n",
    "#rects1 = ax.bar(nptopics-width/2, topic_what_subjectivities, width, label='Subjectivity')\n",
    "#rects2 = ax.bar(nptopics+width/2, topic_what_polarities, width, label='Polarity')\n",
    "\n",
    "plt.scatter(nptopics, topic_what_subjectivities, label='Subjectivity')\n",
    "plt.scatter(nptopics, topic_what_polarities,  label='Polarity')\n",
    "\n",
    "#plt.xlabel(topic_what_labels, rotation=45)\n",
    "plt.legend()\n",
    "\n",
    "plt.show()"
   ]
  },
  {
   "cell_type": "code",
   "execution_count": 59,
   "metadata": {},
   "outputs": [
    {
     "data": {
      "text/plain": [
       "array([0, 1, 2, 3, 4, 5, 6, 7])"
      ]
     },
     "execution_count": 59,
     "metadata": {},
     "output_type": "execute_result"
    }
   ],
   "source": [
    "nptopics"
   ]
  },
  {
   "cell_type": "code",
   "execution_count": 105,
   "metadata": {},
   "outputs": [
    {
     "data": {
      "text/plain": [
       "<matplotlib.image.AxesImage at 0x7fef2a49be10>"
      ]
     },
     "execution_count": 105,
     "metadata": {},
     "output_type": "execute_result"
    },
    {
     "data": {
      "image/png": "[encoded data removed]",
      "text/plain": [
       "<Figure size 1728x1152 with 1 Axes>"
      ]
     },
     "metadata": {
      "needs_background": "light"
     },
     "output_type": "display_data"
    }
   ],
   "source": [
    "from IPython import display\n",
    "import matplotlib as mpl\n",
    "import matplotlib.pyplot as plt\n",
    "%matplotlib inline\n",
    "\n",
    "from subprocess import check_output\n",
    "from wordcloud import WordCloud, STOPWORDS\n",
    "\n",
    "fig.patch.set_alpha(0.)\n",
    "\n",
    "\n",
    "mpl.rcParams['figure.figsize']=(24,16)  \n",
    "mpl.rcParams['font.size']=12            \n",
    "mpl.rcParams['savefig.dpi']=800             \n",
    "mpl.rcParams['figure.subplot.bottom']=.1\n",
    "\n",
    "stopwords = set(STOPWORDS)\n",
    "\n",
    "fig = plt.figure(1)\n",
    "plt.axis('off')\n",
    "\n",
    "word_string = ' '.join(top_words)\n",
    "\n",
    "display.clear_output(wait=True)\n",
    "wordcloud = WordCloud(\n",
    "        background_color=\"rgba(255, 255, 255, 0)\", mode=\"RGBA\",\n",
    "        font_path='/System/Library/Fonts/Times.ttc',\n",
    "        stopwords=stopwords,\n",
    "        max_words=70,\n",
    "        max_font_size=40, \n",
    "        random_state=101,\n",
    "        colormap='flag'\n",
    "        ).generate(word_string)\n",
    "\n",
    "wordcloud.to_file('word_cloud_5.png')\n",
    "plt.imshow(wordcloud)\n",
    "\n",
    "#plt.savefig('word_cloud_5.png', Transparent=True)\n",
    "#display.display(fig)"
   ]
  },
  {
   "cell_type": "markdown",
   "metadata": {},
   "source": [
    "## KMeans Clustering"
   ]
  },
  {
   "cell_type": "code",
   "execution_count": 61,
   "metadata": {},
   "outputs": [
    {
     "data": {
      "text/plain": [
       "'SANDER BIDEN BUTTIGIEG WARREN IOWA TRUMP BLOOMBERG VOTER HAMPSHIRE PEOPLE PRIMARY SUPPORT CAUCUS DEBATE VOTE YEAR KLOBUCHAR TIME POLL JUST COME TELL RIGHT RACE RESULT PARTY DEMOCRATS NEVADA SUPPORTER ELECTION WORK WEEK LEAD NEED PLAN WANT REPORT NIGHT POLICY INCLUDE CAROLINA STEYER DELEGATE POLITICAL BLACK WOMAN EVENT CITY POINT GOOD PERCENT NEWS SPEAK PLACE QUESTION CHANGE YORK COUNTRY NATIONAL ISSUE EARLY RELEASE HOLD BILLIONAIRE MILLION HELP SPEND SUPER MONTH NOMINATION AMERICAN COMMENT ACCORD THING HEALTH MONEY CARE MIKE NUMBER SECOND'"
      ]
     },
     "execution_count": 61,
     "metadata": {},
     "output_type": "execute_result"
    }
   ],
   "source": [
    "word_string"
   ]
  },
  {
   "cell_type": "code",
   "execution_count": null,
   "metadata": {},
   "outputs": [],
   "source": []
  },
  {
   "cell_type": "markdown",
   "metadata": {},
   "source": [
    "## Word 2 Vec"
   ]
  },
  {
   "cell_type": "code",
   "execution_count": 16,
   "metadata": {},
   "outputs": [],
   "source": [
    "settings = {\n",
    "    'window_size': 2,    # context window +- center word\n",
    "    'n': 10,    # dimensions of word embeddings, also refer to size of hidden layer\n",
    "    'epochs': 50,    # number of training epochs\n",
    "    'learning_rate': 0.01   # learning rate\n",
    "\n",
    "}"
   ]
  },
  {
   "cell_type": "code",
   "execution_count": 17,
   "metadata": {},
   "outputs": [
    {
     "data": {
      "text/plain": [
       "1335202"
      ]
     },
     "execution_count": 17,
     "metadata": {},
     "output_type": "execute_result"
    }
   ],
   "source": [
    "all_words = []\n",
    "\n",
    "for token in corpus :\n",
    "        all_words.extend(token.split())\n",
    "len(all_words)"
   ]
  },
  {
   "cell_type": "code",
   "execution_count": 18,
   "metadata": {},
   "outputs": [
    {
     "data": {
      "text/plain": [
       "'washington'"
      ]
     },
     "execution_count": 18,
     "metadata": {},
     "output_type": "execute_result"
    }
   ],
   "source": [
    "all_words[0]"
   ]
  },
  {
   "cell_type": "code",
   "execution_count": 19,
   "metadata": {},
   "outputs": [
    {
     "data": {
      "text/plain": [
       "True"
      ]
     },
     "execution_count": 19,
     "metadata": {},
     "output_type": "execute_result"
    }
   ],
   "source": [
    "'warren' in all_words"
   ]
  },
  {
   "cell_type": "code",
   "execution_count": 20,
   "metadata": {},
   "outputs": [
    {
     "name": "stderr",
     "output_type": "stream",
     "text": [
      "/Users/maboals/opt/anaconda3/lib/python3.7/site-packages/gensim/corpora/dictionary.py:11: DeprecationWarning: Using or importing the ABCs from 'collections' instead of from 'collections.abc' is deprecated, and in 3.8 it will stop working\n",
      "  from collections import Mapping, defaultdict\n",
      "/Users/maboals/opt/anaconda3/lib/python3.7/site-packages/scipy/sparse/sparsetools.py:21: DeprecationWarning: `scipy.sparse.sparsetools` is deprecated!\n",
      "scipy.sparse.sparsetools is a private module for scipy.sparse, and should not be used.\n",
      "  _deprecated()\n",
      "/Users/maboals/opt/anaconda3/lib/python3.7/site-packages/gensim/models/doc2vec.py:73: DeprecationWarning: Using or importing the ABCs from 'collections' instead of from 'collections.abc' is deprecated, and in 3.8 it will stop working\n",
      "  from collections import namedtuple, defaultdict, Iterable\n"
     ]
    }
   ],
   "source": [
    "from gensim.test.utils import common_texts, get_tmpfile\n",
    "from gensim.utils import simple_preprocess\n",
    "from gensim.models import Word2Vec"
   ]
  },
  {
   "cell_type": "markdown",
   "metadata": {},
   "source": [
    "## Explore Using Word2Vec"
   ]
  },
  {
   "cell_type": "code",
   "execution_count": 21,
   "metadata": {},
   "outputs": [],
   "source": [
    "# Initialise object\n",
    "model = Word2Vec([all_words], size=100, window=20, min_count=10, workers=4)"
   ]
  },
  {
   "cell_type": "code",
   "execution_count": null,
   "metadata": {},
   "outputs": [],
   "source": []
  },
  {
   "cell_type": "code",
   "execution_count": 22,
   "metadata": {},
   "outputs": [
    {
     "data": {
      "text/plain": [
       "(50000, 6676010)"
      ]
     },
     "execution_count": 22,
     "metadata": {},
     "output_type": "execute_result"
    }
   ],
   "source": [
    "model.train([all_words], total_examples=model.corpus_count, epochs=model.epochs)"
   ]
  },
  {
   "cell_type": "code",
   "execution_count": 24,
   "metadata": {},
   "outputs": [
    {
     "name": "stderr",
     "output_type": "stream",
     "text": [
      "/Users/maboals/opt/anaconda3/lib/python3.7/site-packages/ipykernel_launcher.py:1: DeprecationWarning: Call to deprecated `similar_by_word` (Method will be removed in 4.0.0, use self.wv.similar_by_word() instead).\n",
      "  \"\"\"Entry point for launching an IPython kernel.\n"
     ]
    },
    {
     "data": {
      "text/plain": [
       "[('voter', 0.9999606609344482),\n",
       " ('poll', 0.9999600648880005),\n",
       " ('primary', 0.9999524354934692),\n",
       " ('lead', 0.9999514818191528),\n",
       " ('biden', 0.9999514222145081),\n",
       " ('over', 0.9999508261680603),\n",
       " ('last', 0.9999470710754395),\n",
       " ('support', 0.9999456405639648),\n",
       " ('among', 0.9999423027038574),\n",
       " ('bloomberg', 0.9999420642852783)]"
      ]
     },
     "execution_count": 24,
     "metadata": {},
     "output_type": "execute_result"
    }
   ],
   "source": [
    "model.similar_by_word('buttigieg')"
   ]
  },
  {
   "cell_type": "code",
   "execution_count": 44,
   "metadata": {},
   "outputs": [],
   "source": [
    "# Numpy ndarray with one-hot representation for [target_word, context_words]\n",
    "#training_data = model.train(corpus, total_examples=1, epochs=10)"
   ]
  },
  {
   "cell_type": "code",
   "execution_count": 54,
   "metadata": {},
   "outputs": [
    {
     "name": "stdout",
     "output_type": "stream",
     "text": [
      "[==================================================] 100.0% 128.1/128.1MB downloaded\n"
     ]
    }
   ],
   "source": [
    "import gensim.downloader as api\n",
    "\n",
    "#word_vectors = api.load(\"glove-wiki-gigaword-100\")"
   ]
  },
  {
   "cell_type": "code",
   "execution_count": 56,
   "metadata": {},
   "outputs": [
    {
     "name": "stdout",
     "output_type": "stream",
     "text": [
      "harrison: 0.7126\n"
     ]
    }
   ],
   "source": [
    "#result = word_vectors.similar_by_word(\"warren\")\n",
    "#print(\"{}: {:.4f}\".format(*result[0]))"
   ]
  },
  {
   "cell_type": "code",
   "execution_count": null,
   "metadata": {},
   "outputs": [],
   "source": []
  }
 ],
 "metadata": {
  "kernelspec": {
   "display_name": "Python 3",
   "language": "python",
   "name": "python3"
  },
  "language_info": {
   "codemirror_mode": {
    "name": "ipython",
    "version": 3
   },
   "file_extension": ".py",
   "mimetype": "text/x-python",
   "name": "python",
   "nbconvert_exporter": "python",
   "pygments_lexer": "ipython3",
   "version": "3.7.4"
  }
 },
 "nbformat": 4,
 "nbformat_minor": 4
}
