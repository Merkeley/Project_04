{
 "cells": [
  {
   "cell_type": "markdown",
   "metadata": {},
   "source": [
    "# Metis Data Science Bootcamp\n",
    "## San Francisco, Winter 2020\n",
    "### Project 4: Election Reporting Sentiment Analysis\n",
    "\n",
    "### Topic Modeling - Time Series\n",
    "\n",
    "One of the goals of this project is to evaluation topic importance over time.  This notebook breaks the article database into sections by week and examines the changes in feature importance over time."
   ]
  },
  {
   "cell_type": "code",
   "execution_count": 44,
   "metadata": {},
   "outputs": [],
   "source": [
    "import sys\n",
    "import re\n",
    "import os.path\n",
    "import requests\n",
    "import time\n",
    "import pandas as pd\n",
    "import numpy as np\n",
    "import matplotlib.pyplot as plt\n",
    "import datetime as dt\n",
    "\n",
    "from os import path\n",
    "\n",
    "from pymongo import MongoClient"
   ]
  },
  {
   "cell_type": "code",
   "execution_count": 45,
   "metadata": {},
   "outputs": [],
   "source": [
    "from sklearn.feature_extraction.text import CountVectorizer \n",
    "from sklearn.feature_extraction.text import TfidfVectorizer\n",
    "from sklearn.decomposition import LatentDirichletAllocation\n",
    "from sklearn.decomposition import TruncatedSVD\n",
    "from sklearn.decomposition import NMF\n",
    "from sklearn.decomposition import PCA\n",
    "from sklearn.metrics.pairwise import cosine_similarity\n",
    "from sklearn.pipeline import Pipeline\n",
    "\n",
    "import spacy\n",
    "from spacy import displacy\n",
    "from pprint import pprint\n",
    "from collections import Counter\n",
    "import en_core_web_sm\n",
    "nlp = en_core_web_sm.load()\n",
    "\n",
    "import re\n",
    "import string\n",
    "\n",
    "from spacy.lang.en import English\n",
    "nlp = spacy.load(\"en_core_web_sm\")"
   ]
  },
  {
   "cell_type": "markdown",
   "metadata": {},
   "source": [
    "Open an connection to Mongo and get cursors for the news collections"
   ]
  },
  {
   "cell_type": "code",
   "execution_count": 3,
   "metadata": {},
   "outputs": [],
   "source": [
    "db_client = MongoClient()\n",
    "db_news = db_client['news_search']\n",
    "db_news_col = db_news['search_result']"
   ]
  },
  {
   "cell_type": "code",
   "execution_count": 4,
   "metadata": {},
   "outputs": [],
   "source": [
    "db_news_content = db_news['news_content']\n",
    "cursor = db_news_content.find({}, {'_id':0, 'name': 1, 'text': 1, 'url' : 1, 'base_url' : 1, 'pub_date': 1})"
   ]
  },
  {
   "cell_type": "code",
   "execution_count": 5,
   "metadata": {},
   "outputs": [],
   "source": [
    "db_news_content = db_news['news_content']\n",
    "\n"
   ]
  },
  {
   "cell_type": "markdown",
   "metadata": {},
   "source": [
    "Define some utility functions that will come in handy later"
   ]
  },
  {
   "cell_type": "code",
   "execution_count": 6,
   "metadata": {},
   "outputs": [],
   "source": [
    "def get_top_words(topic, feature_names, n_top_words):\n",
    "    word_list = []\n",
    "    word_list = [feature_names[i] for i in topic.argsort()[:-n_top_words - 1:-1]]\n",
    "    \n",
    "    return word_list\n",
    "\n",
    "def print_top_words(model, feature_names, n_top_words):\n",
    "    word_list = []\n",
    "    for topic_idx, topic in enumerate(model.components_):\n",
    "        message = \"Topic #%d: \" % topic_idx\n",
    "        message += ' '.join(get_top_words(topic, feature_names, n_top_words))\n",
    "        print(message)\n",
    "    print()"
   ]
  },
  {
   "cell_type": "markdown",
   "metadata": {},
   "source": [
    "## Build a Pipeline"
   ]
  },
  {
   "cell_type": "code",
   "execution_count": 7,
   "metadata": {},
   "outputs": [],
   "source": [
    "def build_corpus(cur, field1, field2) :\n",
    "    articles = list(cur)\n",
    "\n",
    "    X_what = []\n",
    "    y = []\n",
    "    for article in articles :\n",
    "        X_what.append(article[field2])\n",
    "        y.append(article[field1])\n",
    "    return X_what, y"
   ]
  },
  {
   "cell_type": "code",
   "execution_count": 8,
   "metadata": {},
   "outputs": [],
   "source": [
    "# build our corpus\n",
    "corpus = []\n",
    "cursor = db_news_content.find({}, {'_id':1, 'text': 1, 'short_text' : 1, 'prop_nouns' : 1})\n",
    "for article in list(cursor) :\n",
    "    corpus.append(article['short_text'])\n"
   ]
  },
  {
   "cell_type": "code",
   "execution_count": 9,
   "metadata": {},
   "outputs": [],
   "source": [
    "vectorizer = CountVectorizer(stop_words='english', max_df=1.5, max_features=80, ngram_range=(1,2))\n",
    "lda_model = LatentDirichletAllocation(n_components=8,               # Number of topics\n",
    "                                      max_iter=10,               # Max learning iterations\n",
    "                                      learning_method='online',   \n",
    "                                      random_state=100,          # Random state\n",
    "                                      batch_size=128,            # n docs in each learning iter\n",
    "                                      evaluate_every = -1,       # compute perplexity every n iters, default: Don't\n",
    "                                      n_jobs = -1,               # Use all available CPUs\n",
    "                                     )\n",
    "\n",
    "#pipe = Pipeline([('CV', vectorizer), ('LDA', lda_model)])"
   ]
  },
  {
   "cell_type": "code",
   "execution_count": 10,
   "metadata": {},
   "outputs": [],
   "source": [
    "#X_lda_what = pipe.fit_transform(X_what)"
   ]
  },
  {
   "cell_type": "code",
   "execution_count": 11,
   "metadata": {},
   "outputs": [],
   "source": [
    "def block_fit_transform(vect,model, corpus, data=None) :\n",
    "    vect_out = vect.fit(corpus)\n",
    "    \n",
    "    if data is not None :\n",
    "        dat_xform = vect_out.transform(data)\n",
    "    else :\n",
    "        dat_xform = vect_out.transform(corpus)\n",
    "        \n",
    "    model_out = model.fit_transform(dat_xform)\n",
    "    return dat_xform, vect_out, model_out"
   ]
  },
  {
   "cell_type": "markdown",
   "metadata": {},
   "source": [
    "## Run the models for different slices of time\n",
    "\n",
    "Prep some values for later visualization"
   ]
  },
  {
   "cell_type": "code",
   "execution_count": 12,
   "metadata": {},
   "outputs": [
    {
     "data": {
      "text/plain": [
       "(datetime.datetime(2019, 11, 12, 0, 0), datetime.datetime(2020, 2, 25, 0, 0))"
      ]
     },
     "execution_count": 12,
     "metadata": {},
     "output_type": "execute_result"
    }
   ],
   "source": [
    "# Find the range for the publication dates\n",
    "cursor = db_news_content.find({}, {'_id':1, 'dt_pub_date' : 1})\n",
    "date_list = [x['dt_pub_date'] for x in list(cursor)]\n",
    "date_list.sort()\n",
    "date_list = date_list[1:]\n",
    "min(date_list), max(date_list)"
   ]
  },
  {
   "cell_type": "code",
   "execution_count": 13,
   "metadata": {},
   "outputs": [
    {
     "name": "stderr",
     "output_type": "stream",
     "text": [
      "/Users/maboals/opt/anaconda3/lib/python3.7/site-packages/pandas/plotting/_matplotlib/converter.py:103: FutureWarning: Using an implicitly registered datetime converter for a matplotlib plotting method. The converter was registered by pandas on import. Future versions of pandas will require you to explicitly register matplotlib converters.\n",
      "\n",
      "To register the converters:\n",
      "\t>>> from pandas.plotting import register_matplotlib_converters\n",
      "\t>>> register_matplotlib_converters()\n",
      "  warnings.warn(msg, FutureWarning)\n"
     ]
    },
    {
     "data": {
      "text/plain": [
       "(array([1.000e+00, 0.000e+00, 3.000e+00, 3.000e+00, 5.000e+00, 2.300e+01,\n",
       "        2.740e+02, 8.780e+02, 1.069e+03, 1.538e+03]),\n",
       " array([737375. , 737385.5, 737396. , 737406.5, 737417. , 737427.5,\n",
       "        737438. , 737448.5, 737459. , 737469.5, 737480. ]),\n",
       " <a list of 10 Patch objects>)"
      ]
     },
     "execution_count": 13,
     "metadata": {},
     "output_type": "execute_result"
    },
    {
     "data": {
      "image/png": "[encoded data removed]",
      "text/plain": [
       "<Figure size 432x288 with 1 Axes>"
      ]
     },
     "metadata": {
      "needs_background": "light"
     },
     "output_type": "display_data"
    }
   ],
   "source": [
    "plt.hist(date_list)"
   ]
  },
  {
   "cell_type": "code",
   "execution_count": 14,
   "metadata": {},
   "outputs": [],
   "source": [
    "start_date = dt.datetime(2020, 1, 12)\n",
    "end_date = max(date_list)\n",
    " \n",
    "window_size = dt.timedelta(days=7)\n",
    "\n",
    "next_date = start_date\n",
    "\n",
    "date_windows = [start_date]\n",
    "\n",
    "while next_date < end_date :\n",
    "    next_date = next_date + window_size\n",
    "    date_windows.append(next_date)"
   ]
  },
  {
   "cell_type": "code",
   "execution_count": 15,
   "metadata": {},
   "outputs": [
    {
     "data": {
      "text/plain": [
       "[datetime.datetime(2020, 1, 12, 0, 0),\n",
       " datetime.datetime(2020, 1, 19, 0, 0),\n",
       " datetime.datetime(2020, 1, 26, 0, 0),\n",
       " datetime.datetime(2020, 2, 2, 0, 0),\n",
       " datetime.datetime(2020, 2, 9, 0, 0),\n",
       " datetime.datetime(2020, 2, 16, 0, 0),\n",
       " datetime.datetime(2020, 2, 23, 0, 0),\n",
       " datetime.datetime(2020, 3, 1, 0, 0)]"
      ]
     },
     "execution_count": 15,
     "metadata": {},
     "output_type": "execute_result"
    }
   ],
   "source": [
    "date_windows"
   ]
  },
  {
   "cell_type": "code",
   "execution_count": 16,
   "metadata": {},
   "outputs": [],
   "source": [
    "def get_window_corpus(db, text_field, start_date, end_date):\n",
    "    cursor = db.find({ 'dt_pub_date': {\n",
    "        '$gte' : start_date,\n",
    "        '$lt' : end_date}}, {'_id': 1, text_field: 1})\n",
    "    \n",
    "    # Build a corpus from those articles\n",
    "    return build_corpus(cursor, '_id', text_field)"
   ]
  },
  {
   "cell_type": "code",
   "execution_count": 17,
   "metadata": {},
   "outputs": [],
   "source": [
    "def get_window_vals(db, text_field, start_date, end_date):\n",
    "    val_list = []\n",
    "    \n",
    "    cursor = db.find({ 'dt_pub_date': {\n",
    "        '$gte' : start_date,\n",
    "        '$lt' : end_date}}, {'_id': 1, text_field: 1})\n",
    "    \n",
    "    for article in list(cursor) :\n",
    "        val_list.append(article[text_field])    \n",
    "    \n",
    "    # Build a corpus from those articles\n",
    "    return val_list"
   ]
  },
  {
   "cell_type": "code",
   "execution_count": 18,
   "metadata": {},
   "outputs": [],
   "source": [
    "def build_window_model(model, vect, db, field, start_date, end_date):\n",
    "    window_corpus, window_ids = get_window_corpus(db, field, start_date, end_date)\n",
    "    \n",
    "    # Train and fit the model\n",
    "    return block_fit_transform(vect, model, window_corpus)"
   ]
  },
  {
   "cell_type": "code",
   "execution_count": 19,
   "metadata": {
    "jupyter": {
     "source_hidden": true
    }
   },
   "outputs": [],
   "source": [
    "window_word_list = []\n",
    "window_component_list = []\n",
    "n_words = 5\n",
    "\n",
    "window_data = {}\n",
    "\n",
    "# For each date window\n",
    "for i in range(len(date_windows)-1) :\n",
    "    top_word_list = []\n",
    "    top_component_list = []\n",
    "    '''\n",
    "    # Get the articles in that date range\n",
    "    corpus, id_list = get_window_corpus(db_news_content, 'short_text', date_windows[i], date_windows[i+1])\n",
    "\n",
    "    cursor = db_news_content.find({ 'dt_pub_date': {\n",
    "        '$gte' : date_windows[i],\n",
    "        '$lt' : date_windows[i+1]}}, {'_id': 1, 'short_text': 1})\n",
    "    \n",
    "    # Build a corpus from those articles\n",
    "    corpus, id_list = build_corpus(cursor, '_id', 'short_text')\n",
    "\n",
    "    # Train and fit the model\n",
    "    X_dat, y, lda_output = block_fit_transform(vectorizer, lda_model, corpus)\n",
    "    '''    \n",
    "    X_dat, y, lda_output = build_window_model(lda_model, vectorizer, db_news_content, 'short_text', date_windows[i], date_windows[i+1])\n",
    "    # Get the list of topics and weights for each\n",
    "    for topic_idx, topic in enumerate(lda_model.components_):\n",
    "        top_word_list.append(get_top_words(topic, vectorizer.get_feature_names(), n_words))\n",
    "        y = sorted(np.array(topic))\n",
    "        y = sorted(y, reverse=True)\n",
    "        components = y[:n_words]\n",
    "        top_component_list.append(components)\n",
    "        \n",
    "    \n",
    "    window_word_list.append(top_word_list)\n",
    "    window_component_list.append(top_component_list)\n",
    "    window_data[i] = {'Data': X_dat, 'Output':y, 'model_out': lda_output, 'Words': window_word_list, 'Weights' : window_component_list}"
   ]
  },
  {
   "cell_type": "code",
   "execution_count": 20,
   "metadata": {},
   "outputs": [],
   "source": [
    "def topic_transition(model, vect, db, field, base_window, window_list):\n",
    "    # Initialize some variables for later use\n",
    "    win_dat_list = []\n",
    "    \n",
    "    # get the corpus for the base time period\n",
    "    base_corpus, window_ids = get_window_corpus(db, field, base_window[0], base_window[1])\n",
    "    \n",
    "    base_v_out = vect.fit_transform(base_corpus)\n",
    "    base_model_out = model.fit_transform(base_v_out)\n",
    "                                                \n",
    "    # Now do the transformation on each window in the list\n",
    "    for i, window in enumerate(window_list) :\n",
    "        print(window)\n",
    "        # Get the corpus for this window\n",
    "        win_corpus, win_ids = get_window_corpus(db, field, window[0], window[1])\n",
    "        print(len(win_corpus))\n",
    "\n",
    "        # Transform the corpus using the trained model\n",
    "        win_v_out = vect.transform(win_corpus)\n",
    "        win_m_out = model.transform(win_v_out)\n",
    "        \n",
    "        # Save the model output to a list\n",
    "        win_dat_list.append(win_m_out)\n",
    "    \n",
    "    return base_model_out, win_dat_list"
   ]
  },
  {
   "cell_type": "code",
   "execution_count": 21,
   "metadata": {},
   "outputs": [
    {
     "data": {
      "text/plain": [
       "8"
      ]
     },
     "execution_count": 21,
     "metadata": {},
     "output_type": "execute_result"
    }
   ],
   "source": [
    "len(date_windows)"
   ]
  },
  {
   "cell_type": "code",
   "execution_count": 22,
   "metadata": {},
   "outputs": [
    {
     "name": "stdout",
     "output_type": "stream",
     "text": [
      "[datetime.datetime(2020, 1, 26, 0, 0), datetime.datetime(2020, 2, 2, 0, 0)]\n",
      "596\n",
      "[datetime.datetime(2020, 2, 9, 0, 0), datetime.datetime(2020, 2, 16, 0, 0)]\n",
      "423\n",
      "[datetime.datetime(2020, 2, 16, 0, 0), datetime.datetime(2020, 2, 23, 0, 0)]\n",
      "1163\n",
      "Topic #0: trump sander debate steyer democrats vote time work\n",
      "Topic #1: percent steyer poll sander voter iowa support caucus\n",
      "Topic #2: people just right year support tell klobuchar time\n",
      "Topic #3: iowa event supporter speak warren point hold klobuchar\n",
      "Topic #4: biden hampshire sander iowa primary voter buttigieg warren\n",
      "Topic #5: bloomberg primary race spend iowa election early voter\n",
      "Topic #6: iowa result caucus party sander report delegate buttigieg\n",
      "Topic #7: buttigieg warren iowa sander voter hampshire woman come\n",
      "\n"
     ]
    }
   ],
   "source": [
    "base_dates = [date_windows[3], date_windows[4]]\n",
    "other_dates = [[date_windows[2], date_windows[3]],\\\n",
    "               [date_windows[4], date_windows[5]],\\\n",
    "               [date_windows[5], date_windows[6]]]\n",
    "base_weights, other_weights = topic_wt_date = topic_transition(lda_model, vectorizer, db_news_content, 'short_text', base_dates, other_dates)\n",
    "print_top_words(lda_model, vectorizer.get_feature_names(), 8)"
   ]
  },
  {
   "cell_type": "code",
   "execution_count": 23,
   "metadata": {},
   "outputs": [],
   "source": [
    "sentiment = get_window_vals(db_news_content, 'sentiment', base_dates[0], base_dates[1])"
   ]
  },
  {
   "cell_type": "markdown",
   "metadata": {},
   "source": [
    "Topic #0: trump sander debate steyer democrats vote time work\n",
    "Topic #1: percent steyer poll sander voter iowa support caucus\n",
    "Topic #2: people just right year support tell klobuchar time\n",
    "Topic #3: iowa event supporter speak warren point hold klobuchar\n",
    "Topic #4: biden hampshire sander iowa primary voter buttigieg warren\n",
    "Topic #5: bloomberg primary race spend iowa election early voter\n",
    "Topic #6: iowa result caucus party sander report delegate buttigieg\n",
    "Topic #7: buttigieg warren iowa sander voter hampshire woman come"
   ]
  },
  {
   "cell_type": "code",
   "execution_count": 26,
   "metadata": {},
   "outputs": [],
   "source": [
    "sentiment_subjectivity = np.array([list(x)[1] for x in sentiment])\n",
    "sentiment_polarity = np.array([list(x)[0] for x in sentiment])"
   ]
  },
  {
   "cell_type": "code",
   "execution_count": 27,
   "metadata": {},
   "outputs": [],
   "source": [
    "base_subjectivity = np.matmul(sentiment_subjectivity, base_weights)\n",
    "base_polarity = np.matmul(sentiment_polarity, base_weights)"
   ]
  },
  {
   "cell_type": "code",
   "execution_count": 28,
   "metadata": {},
   "outputs": [
    {
     "data": {
      "text/plain": [
       "(array([0.04475598, 0.02489206, 0.07098999, 0.02215379, 0.07783572,\n",
       "        0.02617028, 0.08844509, 0.05096576]),\n",
       " array([0.01147668, 0.00703572, 0.02214436, 0.0066279 , 0.02276441,\n",
       "        0.00750099, 0.02460672, 0.01527927]))"
      ]
     },
     "execution_count": 28,
     "metadata": {},
     "output_type": "execute_result"
    }
   ],
   "source": [
    "base_subjectivity = base_subjectivity / base_weights.shape[0]\n",
    "base_polarity = base_polarity / base_weights.shape[0]\n",
    "base_subjectivity, base_polarity"
   ]
  },
  {
   "cell_type": "code",
   "execution_count": 29,
   "metadata": {},
   "outputs": [],
   "source": [
    "topic_base_weights = [np.mean([base_weights[x][i] for x in range(base_weights.shape[0])]) for i in range(base_weights.shape[1])]\n",
    "x = 0\n",
    "topic_other_weights = [[np.mean([other_weights[x][i][j] for i in range(other_weights[x].shape[0])]) for j in range(other_weights[x].shape[1])]\\\n",
    "    for x in range(len(other_weights))]\n"
   ]
  },
  {
   "cell_type": "code",
   "execution_count": 30,
   "metadata": {},
   "outputs": [
    {
     "data": {
      "text/plain": [
       "(8,)"
      ]
     },
     "execution_count": 30,
     "metadata": {},
     "output_type": "execute_result"
    }
   ],
   "source": [
    "base_subjectivity.shape"
   ]
  },
  {
   "cell_type": "code",
   "execution_count": 31,
   "metadata": {},
   "outputs": [],
   "source": [
    "base_subjectivity = [base_subjectivity[x] / topic_base_weights[x] for x in range(base_subjectivity.shape[0])]\n",
    "base_polarity = [base_polarity[x] / topic_base_weights[x] for x in range(base_polarity.shape[0])]"
   ]
  },
  {
   "cell_type": "code",
   "execution_count": 32,
   "metadata": {},
   "outputs": [
    {
     "data": {
      "text/plain": [
       "'\\nFull Corpus\\nTopic #0: bloomberg debate steyer billionaire super million spend nevada\\nTopic #1: voter poll biden percent sander hampshire primary support\\nTopic #2: caucus iowa result delegate sander buttigieg vote party\\nTopic #3: iowa buttigieg people event caucus just year speak\\nTopic #4: buttigieg klobuchar black hampshire debate voter primary carolina\\nTopic #5: sander biden trump democrats election vote year people\\nTopic #6: bloomberg trump people policy city support right plan\\nTopic #7: warren woman sander plan hampshire supporter people debate\\n\\n\\n\\nTopic #0: trump sander debate steyer democrats vote time work\\nTopic #1: percent steyer poll sander voter iowa support caucus\\nTopic #2: people just right year support tell klobuchar time\\nTopic #3: iowa event supporter speak warren point hold klobuchar\\nTopic #4: biden hampshire sander iowa primary voter buttigieg warren\\nTopic #5: bloomberg primary race spend iowa election early voter\\nTopic #6: iowa result caucus party sander report delegate buttigieg\\nTopic #7: buttigieg warren iowa sander voter hampshire woman come\\n\\n[datetime.datetime(2020, 1, 12, 0, 0),\\n datetime.datetime(2020, 1, 19, 0, 0),\\n datetime.datetime(2020, 1, 26, 0, 0),\\n datetime.datetime(2020, 2, 2, 0, 0),\\n datetime.datetime(2020, 2, 9, 0, 0),\\n datetime.datetime(2020, 2, 16, 0, 0),\\n datetime.datetime(2020, 2, 23, 0, 0),\\n datetime.datetime(2020, 3, 1, 0, 0)]\\n'"
      ]
     },
     "execution_count": 32,
     "metadata": {},
     "output_type": "execute_result"
    }
   ],
   "source": [
    "'''\n",
    "Full Corpus\n",
    "Topic #0: bloomberg debate steyer billionaire super million spend nevada\n",
    "Topic #1: voter poll biden percent sander hampshire primary support\n",
    "Topic #2: caucus iowa result delegate sander buttigieg vote party\n",
    "Topic #3: iowa buttigieg people event caucus just year speak\n",
    "Topic #4: buttigieg klobuchar black hampshire debate voter primary carolina\n",
    "Topic #5: sander biden trump democrats election vote year people\n",
    "Topic #6: bloomberg trump people policy city support right plan\n",
    "Topic #7: warren woman sander plan hampshire supporter people debate\n",
    "\n",
    "\n",
    "\n",
    "Topic #0: trump sander debate steyer democrats vote time work\n",
    "Topic #1: percent steyer poll sander voter iowa support caucus\n",
    "Topic #2: people just right year support tell klobuchar time\n",
    "Topic #3: iowa event supporter speak warren point hold klobuchar\n",
    "Topic #4: biden hampshire sander iowa primary voter buttigieg warren\n",
    "Topic #5: bloomberg primary race spend iowa election early voter\n",
    "Topic #6: iowa result caucus party sander report delegate buttigieg\n",
    "Topic #7: buttigieg warren iowa sander voter hampshire woman come\n",
    "\n",
    "[datetime.datetime(2020, 1, 12, 0, 0),\n",
    " datetime.datetime(2020, 1, 19, 0, 0),\n",
    " datetime.datetime(2020, 1, 26, 0, 0),\n",
    " datetime.datetime(2020, 2, 2, 0, 0),\n",
    " datetime.datetime(2020, 2, 9, 0, 0),\n",
    " datetime.datetime(2020, 2, 16, 0, 0),\n",
    " datetime.datetime(2020, 2, 23, 0, 0),\n",
    " datetime.datetime(2020, 3, 1, 0, 0)]\n",
    "'''"
   ]
  },
  {
   "cell_type": "code",
   "execution_count": 43,
   "metadata": {},
   "outputs": [
    {
     "data": {
      "application/vnd.plotly.v1+json": {
       "config": {
        "plotlyServerURL": "https://plot.ly"
       },
       "data": [
        {
         "name": "Week of 1-26-20",
         "r": [
          0.13709810830161015,
          0.08620857065943735,
          0.24897201577690198,
          0.06818283903464538,
          0.17994762769501338,
          0.11926614865491816,
          0.051002028516724175,
          0.10932266136074946,
          0.13709810830161015,
          0.13709810830161015,
          0.13709810830161015,
          0.13709810830161015,
          0.13709810830161015,
          0.13709810830161015,
          0.13709810830161015,
          0.13709810830161015,
          0.13709810830161015,
          0.13709810830161015,
          0.13709810830161015
         ],
         "theta": [
          "Trump Sanders",
          "Percent Steyer",
          "People Just",
          "Iowa Event",
          "Biden Hampshire",
          "Bloomberg Primary",
          "Iowa Caucus Result",
          "Buttigieg Warren",
          "Trump Sanders"
         ],
         "type": "scatterpolar"
        },
        {
         "name": "Week of 2-2-20",
         "r": [
          0.10699880783384004,
          0.06320189462733236,
          0.16603012128995845,
          0.0636744469928637,
          0.19065797747579133,
          0.06712253412099861,
          0.21362121090976136,
          0.1286930067494542,
          0.10699880783384004,
          0.10699880783384004,
          0.10699880783384004,
          0.10699880783384004,
          0.10699880783384004,
          0.10699880783384004,
          0.10699880783384004
         ],
         "theta": [
          "Trump Sanders",
          "Percent Steyer",
          "People Just",
          "Iowa Event",
          "Biden Hampshire",
          "Bloomberg Primary",
          "Iowa Caucus Result",
          "Buttigieg Warren",
          "Trump Sanders"
         ],
         "type": "scatterpolar"
        },
        {
         "name": "Week of 2-9-20",
         "r": [
          0.08860775078397945,
          0.0896781444270336,
          0.1452024018144555,
          0.05014231011527455,
          0.31365991838030816,
          0.08058079194345781,
          0.09380898895596089,
          0.13831969357953003,
          0.08860775078397945,
          0.08860775078397945,
          0.08860775078397945,
          0.08860775078397945,
          0.08860775078397945,
          0.08860775078397945
         ],
         "theta": [
          "Trump Sanders",
          "Percent Steyer",
          "People Just",
          "Iowa Event",
          "Biden Hampshire",
          "Bloomberg Primary",
          "Iowa Caucus Result",
          "Buttigieg Warren",
          "Trump Sanders"
         ],
         "type": "scatterpolar"
        },
        {
         "name": "Week of 2-16-20",
         "r": [
          0.1814246153230035,
          0.07907579112400329,
          0.21179868584024125,
          0.04494405884246711,
          0.11653102337844032,
          0.1973906752353224,
          0.051146678980909965,
          0.11768847127561216,
          0.1814246153230035,
          0.1814246153230035,
          0.1814246153230035,
          0.1814246153230035,
          0.1814246153230035
         ],
         "theta": [
          "Trump Sanders",
          "Percent Steyer",
          "People Just",
          "Iowa Event",
          "Biden Hampshire",
          "Bloomberg Primary",
          "Iowa Caucus Result",
          "Buttigieg Warren",
          "Trump Sanders"
         ],
         "type": "scatterpolar"
        }
       ],
       "layout": {
        "autosize": false,
        "font": {
         "color": "Black",
         "family": "Helvetica, monospace",
         "size": 18
        },
        "height": 1000,
        "legend": {
         "orientation": "h"
        },
        "margin": {
         "b": 100,
         "l": 50,
         "pad": 4,
         "r": 50,
         "t": 100
        },
        "paper_bgcolor": "rgba(0, 0, 0, 0)",
        "plot_bgcolor": "rgba(0, 0, 0, 0)",
        "polar": {
         "angularaxis": {
          "linecolor": "black",
          "linewidth": 3,
          "showline": false,
          "type": "category"
         },
         "radialaxis": {
          "autorange": false,
          "gridcolor": "white",
          "gridwidth": 2,
          "linewidth": 2,
          "range": [
           0,
           0.35
          ],
          "showline": true,
          "tickfont": {
           "size": 12
          },
          "type": "linear"
         }
        },
        "showlegend": true,
        "template": {
         "data": {
          "bar": [
           {
            "error_x": {
             "color": "#2a3f5f"
            },
            "error_y": {
             "color": "#2a3f5f"
            },
            "marker": {
             "line": {
              "color": "#E5ECF6",
              "width": 0.5
             }
            },
            "type": "bar"
           }
          ],
          "barpolar": [
           {
            "marker": {
             "line": {
              "color": "#E5ECF6",
              "width": 0.5
             }
            },
            "type": "barpolar"
           }
          ],
          "carpet": [
           {
            "aaxis": {
             "endlinecolor": "#2a3f5f",
             "gridcolor": "white",
             "linecolor": "white",
             "minorgridcolor": "white",
             "startlinecolor": "#2a3f5f"
            },
            "baxis": {
             "endlinecolor": "#2a3f5f",
             "gridcolor": "white",
             "linecolor": "white",
             "minorgridcolor": "white",
             "startlinecolor": "#2a3f5f"
            },
            "type": "carpet"
           }
          ],
          "choropleth": [
           {
            "colorbar": {
             "outlinewidth": 0,
             "ticks": ""
            },
            "type": "choropleth"
           }
          ],
          "contour": [
           {
            "colorbar": {
             "outlinewidth": 0,
             "ticks": ""
            },
            "colorscale": [
             [
              0,
              "#0d0887"
             ],
             [
              0.1111111111111111,
              "#46039f"
             ],
             [
              0.2222222222222222,
              "#7201a8"
             ],
             [
              0.3333333333333333,
              "#9c179e"
             ],
             [
              0.4444444444444444,
              "#bd3786"
             ],
             [
              0.5555555555555556,
              "#d8576b"
             ],
             [
              0.6666666666666666,
              "#ed7953"
             ],
             [
              0.7777777777777778,
              "#fb9f3a"
             ],
             [
              0.8888888888888888,
              "#fdca26"
             ],
             [
              1,
              "#f0f921"
             ]
            ],
            "type": "contour"
           }
          ],
          "contourcarpet": [
           {
            "colorbar": {
             "outlinewidth": 0,
             "ticks": ""
            },
            "type": "contourcarpet"
           }
          ],
          "heatmap": [
           {
            "colorbar": {
             "outlinewidth": 0,
             "ticks": ""
            },
            "colorscale": [
             [
              0,
              "#0d0887"
             ],
             [
              0.1111111111111111,
              "#46039f"
             ],
             [
              0.2222222222222222,
              "#7201a8"
             ],
             [
              0.3333333333333333,
              "#9c179e"
             ],
             [
              0.4444444444444444,
              "#bd3786"
             ],
             [
              0.5555555555555556,
              "#d8576b"
             ],
             [
              0.6666666666666666,
              "#ed7953"
             ],
             [
              0.7777777777777778,
              "#fb9f3a"
             ],
             [
              0.8888888888888888,
              "#fdca26"
             ],
             [
              1,
              "#f0f921"
             ]
            ],
            "type": "heatmap"
           }
          ],
          "heatmapgl": [
           {
            "colorbar": {
             "outlinewidth": 0,
             "ticks": ""
            },
            "colorscale": [
             [
              0,
              "#0d0887"
             ],
             [
              0.1111111111111111,
              "#46039f"
             ],
             [
              0.2222222222222222,
              "#7201a8"
             ],
             [
              0.3333333333333333,
              "#9c179e"
             ],
             [
              0.4444444444444444,
              "#bd3786"
             ],
             [
              0.5555555555555556,
              "#d8576b"
             ],
             [
              0.6666666666666666,
              "#ed7953"
             ],
             [
              0.7777777777777778,
              "#fb9f3a"
             ],
             [
              0.8888888888888888,
              "#fdca26"
             ],
             [
              1,
              "#f0f921"
             ]
            ],
            "type": "heatmapgl"
           }
          ],
          "histogram": [
           {
            "marker": {
             "colorbar": {
              "outlinewidth": 0,
              "ticks": ""
             }
            },
            "type": "histogram"
           }
          ],
          "histogram2d": [
           {
            "colorbar": {
             "outlinewidth": 0,
             "ticks": ""
            },
            "colorscale": [
             [
              0,
              "#0d0887"
             ],
             [
              0.1111111111111111,
              "#46039f"
             ],
             [
              0.2222222222222222,
              "#7201a8"
             ],
             [
              0.3333333333333333,
              "#9c179e"
             ],
             [
              0.4444444444444444,
              "#bd3786"
             ],
             [
              0.5555555555555556,
              "#d8576b"
             ],
             [
              0.6666666666666666,
              "#ed7953"
             ],
             [
              0.7777777777777778,
              "#fb9f3a"
             ],
             [
              0.8888888888888888,
              "#fdca26"
             ],
             [
              1,
              "#f0f921"
             ]
            ],
            "type": "histogram2d"
           }
          ],
          "histogram2dcontour": [
           {
            "colorbar": {
             "outlinewidth": 0,
             "ticks": ""
            },
            "colorscale": [
             [
              0,
              "#0d0887"
             ],
             [
              0.1111111111111111,
              "#46039f"
             ],
             [
              0.2222222222222222,
              "#7201a8"
             ],
             [
              0.3333333333333333,
              "#9c179e"
             ],
             [
              0.4444444444444444,
              "#bd3786"
             ],
             [
              0.5555555555555556,
              "#d8576b"
             ],
             [
              0.6666666666666666,
              "#ed7953"
             ],
             [
              0.7777777777777778,
              "#fb9f3a"
             ],
             [
              0.8888888888888888,
              "#fdca26"
             ],
             [
              1,
              "#f0f921"
             ]
            ],
            "type": "histogram2dcontour"
           }
          ],
          "mesh3d": [
           {
            "colorbar": {
             "outlinewidth": 0,
             "ticks": ""
            },
            "type": "mesh3d"
           }
          ],
          "parcoords": [
           {
            "line": {
             "colorbar": {
              "outlinewidth": 0,
              "ticks": ""
             }
            },
            "type": "parcoords"
           }
          ],
          "pie": [
           {
            "automargin": true,
            "type": "pie"
           }
          ],
          "scatter": [
           {
            "marker": {
             "colorbar": {
              "outlinewidth": 0,
              "ticks": ""
             }
            },
            "type": "scatter"
           }
          ],
          "scatter3d": [
           {
            "line": {
             "colorbar": {
              "outlinewidth": 0,
              "ticks": ""
             }
            },
            "marker": {
             "colorbar": {
              "outlinewidth": 0,
              "ticks": ""
             }
            },
            "type": "scatter3d"
           }
          ],
          "scattercarpet": [
           {
            "marker": {
             "colorbar": {
              "outlinewidth": 0,
              "ticks": ""
             }
            },
            "type": "scattercarpet"
           }
          ],
          "scattergeo": [
           {
            "marker": {
             "colorbar": {
              "outlinewidth": 0,
              "ticks": ""
             }
            },
            "type": "scattergeo"
           }
          ],
          "scattergl": [
           {
            "marker": {
             "colorbar": {
              "outlinewidth": 0,
              "ticks": ""
             }
            },
            "type": "scattergl"
           }
          ],
          "scattermapbox": [
           {
            "marker": {
             "colorbar": {
              "outlinewidth": 0,
              "ticks": ""
             }
            },
            "type": "scattermapbox"
           }
          ],
          "scatterpolar": [
           {
            "marker": {
             "colorbar": {
              "outlinewidth": 0,
              "ticks": ""
             }
            },
            "type": "scatterpolar"
           }
          ],
          "scatterpolargl": [
           {
            "marker": {
             "colorbar": {
              "outlinewidth": 0,
              "ticks": ""
             }
            },
            "type": "scatterpolargl"
           }
          ],
          "scatterternary": [
           {
            "marker": {
             "colorbar": {
              "outlinewidth": 0,
              "ticks": ""
             }
            },
            "type": "scatterternary"
           }
          ],
          "surface": [
           {
            "colorbar": {
             "outlinewidth": 0,
             "ticks": ""
            },
            "colorscale": [
             [
              0,
              "#0d0887"
             ],
             [
              0.1111111111111111,
              "#46039f"
             ],
             [
              0.2222222222222222,
              "#7201a8"
             ],
             [
              0.3333333333333333,
              "#9c179e"
             ],
             [
              0.4444444444444444,
              "#bd3786"
             ],
             [
              0.5555555555555556,
              "#d8576b"
             ],
             [
              0.6666666666666666,
              "#ed7953"
             ],
             [
              0.7777777777777778,
              "#fb9f3a"
             ],
             [
              0.8888888888888888,
              "#fdca26"
             ],
             [
              1,
              "#f0f921"
             ]
            ],
            "type": "surface"
           }
          ],
          "table": [
           {
            "cells": {
             "fill": {
              "color": "#EBF0F8"
             },
             "line": {
              "color": "white"
             }
            },
            "header": {
             "fill": {
              "color": "#C8D4E3"
             },
             "line": {
              "color": "white"
             }
            },
            "type": "table"
           }
          ]
         },
         "layout": {
          "annotationdefaults": {
           "arrowcolor": "#2a3f5f",
           "arrowhead": 0,
           "arrowwidth": 1
          },
          "coloraxis": {
           "colorbar": {
            "outlinewidth": 0,
            "ticks": ""
           }
          },
          "colorscale": {
           "diverging": [
            [
             0,
             "#8e0152"
            ],
            [
             0.1,
             "#c51b7d"
            ],
            [
             0.2,
             "#de77ae"
            ],
            [
             0.3,
             "#f1b6da"
            ],
            [
             0.4,
             "#fde0ef"
            ],
            [
             0.5,
             "#f7f7f7"
            ],
            [
             0.6,
             "#e6f5d0"
            ],
            [
             0.7,
             "#b8e186"
            ],
            [
             0.8,
             "#7fbc41"
            ],
            [
             0.9,
             "#4d9221"
            ],
            [
             1,
             "#276419"
            ]
           ],
           "sequential": [
            [
             0,
             "#0d0887"
            ],
            [
             0.1111111111111111,
             "#46039f"
            ],
            [
             0.2222222222222222,
             "#7201a8"
            ],
            [
             0.3333333333333333,
             "#9c179e"
            ],
            [
             0.4444444444444444,
             "#bd3786"
            ],
            [
             0.5555555555555556,
             "#d8576b"
            ],
            [
             0.6666666666666666,
             "#ed7953"
            ],
            [
             0.7777777777777778,
             "#fb9f3a"
            ],
            [
             0.8888888888888888,
             "#fdca26"
            ],
            [
             1,
             "#f0f921"
            ]
           ],
           "sequentialminus": [
            [
             0,
             "#0d0887"
            ],
            [
             0.1111111111111111,
             "#46039f"
            ],
            [
             0.2222222222222222,
             "#7201a8"
            ],
            [
             0.3333333333333333,
             "#9c179e"
            ],
            [
             0.4444444444444444,
             "#bd3786"
            ],
            [
             0.5555555555555556,
             "#d8576b"
            ],
            [
             0.6666666666666666,
             "#ed7953"
            ],
            [
             0.7777777777777778,
             "#fb9f3a"
            ],
            [
             0.8888888888888888,
             "#fdca26"
            ],
            [
             1,
             "#f0f921"
            ]
           ]
          },
          "colorway": [
           "#636efa",
           "#EF553B",
           "#00cc96",
           "#ab63fa",
           "#FFA15A",
           "#19d3f3",
           "#FF6692",
           "#B6E880",
           "#FF97FF",
           "#FECB52"
          ],
          "font": {
           "color": "#2a3f5f"
          },
          "geo": {
           "bgcolor": "white",
           "lakecolor": "white",
           "landcolor": "#E5ECF6",
           "showlakes": true,
           "showland": true,
           "subunitcolor": "white"
          },
          "hoverlabel": {
           "align": "left"
          },
          "hovermode": "closest",
          "mapbox": {
           "style": "light"
          },
          "paper_bgcolor": "white",
          "plot_bgcolor": "#E5ECF6",
          "polar": {
           "angularaxis": {
            "gridcolor": "white",
            "linecolor": "white",
            "ticks": ""
           },
           "bgcolor": "#E5ECF6",
           "radialaxis": {
            "gridcolor": "white",
            "linecolor": "white",
            "ticks": ""
           }
          },
          "scene": {
           "xaxis": {
            "backgroundcolor": "#E5ECF6",
            "gridcolor": "white",
            "gridwidth": 2,
            "linecolor": "white",
            "showbackground": true,
            "ticks": "",
            "zerolinecolor": "white"
           },
           "yaxis": {
            "backgroundcolor": "#E5ECF6",
            "gridcolor": "white",
            "gridwidth": 2,
            "linecolor": "white",
            "showbackground": true,
            "ticks": "",
            "zerolinecolor": "white"
           },
           "zaxis": {
            "backgroundcolor": "#E5ECF6",
            "gridcolor": "white",
            "gridwidth": 2,
            "linecolor": "white",
            "showbackground": true,
            "ticks": "",
            "zerolinecolor": "white"
           }
          },
          "shapedefaults": {
           "line": {
            "color": "#2a3f5f"
           }
          },
          "ternary": {
           "aaxis": {
            "gridcolor": "white",
            "linecolor": "white",
            "ticks": ""
           },
           "baxis": {
            "gridcolor": "white",
            "linecolor": "white",
            "ticks": ""
           },
           "bgcolor": "#E5ECF6",
           "caxis": {
            "gridcolor": "white",
            "linecolor": "white",
            "ticks": ""
           }
          },
          "title": {
           "x": 0.05
          },
          "xaxis": {
           "automargin": true,
           "gridcolor": "white",
           "linecolor": "white",
           "ticks": "",
           "title": {
            "standoff": 15
           },
           "zerolinecolor": "white",
           "zerolinewidth": 2
          },
          "yaxis": {
           "automargin": true,
           "gridcolor": "white",
           "linecolor": "white",
           "ticks": "",
           "title": {
            "standoff": 15
           },
           "zerolinecolor": "white",
           "zerolinewidth": 2
          }
         }
        },
        "title": {
         "text": "Topic Weights Over Time"
        },
        "width": 1200
       }
      },
      "image/png": "[encoded data removed]",
      "text/html": [
       "<div>\n",
       "        \n",
       "        \n",
       "            <div id=\"8302d0c1-8436-433e-88b3-4fd4f60ae680\" class=\"plotly-graph-div\" style=\"height:1000px; width:1200px;\"></div>\n",
       "            <script type=\"text/javascript\">\n",
       "                require([\"plotly\"], function(Plotly) {\n",
       "                    window.PLOTLYENV=window.PLOTLYENV || {};\n",
       "                    \n",
       "                if (document.getElementById(\"8302d0c1-8436-433e-88b3-4fd4f60ae680\")) {\n",
       "                    Plotly.newPlot(\n",
       "                        '8302d0c1-8436-433e-88b3-4fd4f60ae680',\n",
       "                        [{\"name\": \"Week of 1-26-20\", \"r\": [0.13709810830161015, 0.08620857065943735, 0.24897201577690198, 0.06818283903464538, 0.17994762769501338, 0.11926614865491816, 0.051002028516724175, 0.10932266136074946, 0.13709810830161015, 0.13709810830161015, 0.13709810830161015, 0.13709810830161015, 0.13709810830161015, 0.13709810830161015, 0.13709810830161015, 0.13709810830161015, 0.13709810830161015, 0.13709810830161015, 0.13709810830161015], \"theta\": [\"Trump Sanders\", \"Percent Steyer\", \"People Just\", \"Iowa Event\", \"Biden Hampshire\", \"Bloomberg Primary\", \"Iowa Caucus Result\", \"Buttigieg Warren\", \"Trump Sanders\"], \"type\": \"scatterpolar\"}, {\"name\": \"Week of 2-2-20\", \"r\": [0.10699880783384004, 0.06320189462733236, 0.16603012128995845, 0.0636744469928637, 0.19065797747579133, 0.06712253412099861, 0.21362121090976136, 0.1286930067494542, 0.10699880783384004, 0.10699880783384004, 0.10699880783384004, 0.10699880783384004, 0.10699880783384004, 0.10699880783384004, 0.10699880783384004], \"theta\": [\"Trump Sanders\", \"Percent Steyer\", \"People Just\", \"Iowa Event\", \"Biden Hampshire\", \"Bloomberg Primary\", \"Iowa Caucus Result\", \"Buttigieg Warren\", \"Trump Sanders\"], \"type\": \"scatterpolar\"}, {\"name\": \"Week of 2-9-20\", \"r\": [0.08860775078397945, 0.0896781444270336, 0.1452024018144555, 0.05014231011527455, 0.31365991838030816, 0.08058079194345781, 0.09380898895596089, 0.13831969357953003, 0.08860775078397945, 0.08860775078397945, 0.08860775078397945, 0.08860775078397945, 0.08860775078397945, 0.08860775078397945], \"theta\": [\"Trump Sanders\", \"Percent Steyer\", \"People Just\", \"Iowa Event\", \"Biden Hampshire\", \"Bloomberg Primary\", \"Iowa Caucus Result\", \"Buttigieg Warren\", \"Trump Sanders\"], \"type\": \"scatterpolar\"}, {\"name\": \"Week of 2-16-20\", \"r\": [0.1814246153230035, 0.07907579112400329, 0.21179868584024125, 0.04494405884246711, 0.11653102337844032, 0.1973906752353224, 0.051146678980909965, 0.11768847127561216, 0.1814246153230035, 0.1814246153230035, 0.1814246153230035, 0.1814246153230035, 0.1814246153230035], \"theta\": [\"Trump Sanders\", \"Percent Steyer\", \"People Just\", \"Iowa Event\", \"Biden Hampshire\", \"Bloomberg Primary\", \"Iowa Caucus Result\", \"Buttigieg Warren\", \"Trump Sanders\"], \"type\": \"scatterpolar\"}],\n",
       "                        {\"autosize\": false, \"font\": {\"color\": \"Black\", \"family\": \"Helvetica, monospace\", \"size\": 18}, \"height\": 1000, \"legend\": {\"orientation\": \"h\"}, \"margin\": {\"b\": 100, \"l\": 50, \"pad\": 4, \"r\": 50, \"t\": 100}, \"paper_bgcolor\": \"rgba(0, 0, 0, 0)\", \"plot_bgcolor\": \"rgba(0, 0, 0, 0)\", \"polar\": {\"angularaxis\": {\"linecolor\": \"black\", \"linewidth\": 3, \"showline\": false}, \"radialaxis\": {\"gridcolor\": \"white\", \"gridwidth\": 2, \"linewidth\": 2, \"range\": [0, 0.35], \"showline\": true, \"tickfont\": {\"size\": 12}}}, \"showlegend\": true, \"template\": {\"data\": {\"bar\": [{\"error_x\": {\"color\": \"#2a3f5f\"}, \"error_y\": {\"color\": \"#2a3f5f\"}, \"marker\": {\"line\": {\"color\": \"#E5ECF6\", \"width\": 0.5}}, \"type\": \"bar\"}], \"barpolar\": [{\"marker\": {\"line\": {\"color\": \"#E5ECF6\", \"width\": 0.5}}, \"type\": \"barpolar\"}], \"carpet\": [{\"aaxis\": {\"endlinecolor\": \"#2a3f5f\", \"gridcolor\": \"white\", \"linecolor\": \"white\", \"minorgridcolor\": \"white\", \"startlinecolor\": \"#2a3f5f\"}, \"baxis\": {\"endlinecolor\": \"#2a3f5f\", \"gridcolor\": \"white\", \"linecolor\": \"white\", \"minorgridcolor\": \"white\", \"startlinecolor\": \"#2a3f5f\"}, \"type\": \"carpet\"}], \"choropleth\": [{\"colorbar\": {\"outlinewidth\": 0, \"ticks\": \"\"}, \"type\": \"choropleth\"}], \"contour\": [{\"colorbar\": {\"outlinewidth\": 0, \"ticks\": \"\"}, \"colorscale\": [[0.0, \"#0d0887\"], [0.1111111111111111, \"#46039f\"], [0.2222222222222222, \"#7201a8\"], [0.3333333333333333, \"#9c179e\"], [0.4444444444444444, \"#bd3786\"], [0.5555555555555556, \"#d8576b\"], [0.6666666666666666, \"#ed7953\"], [0.7777777777777778, \"#fb9f3a\"], [0.8888888888888888, \"#fdca26\"], [1.0, \"#f0f921\"]], \"type\": \"contour\"}], \"contourcarpet\": [{\"colorbar\": {\"outlinewidth\": 0, \"ticks\": \"\"}, \"type\": \"contourcarpet\"}], \"heatmap\": [{\"colorbar\": {\"outlinewidth\": 0, \"ticks\": \"\"}, \"colorscale\": [[0.0, \"#0d0887\"], [0.1111111111111111, \"#46039f\"], [0.2222222222222222, \"#7201a8\"], [0.3333333333333333, \"#9c179e\"], [0.4444444444444444, \"#bd3786\"], [0.5555555555555556, \"#d8576b\"], [0.6666666666666666, \"#ed7953\"], [0.7777777777777778, \"#fb9f3a\"], [0.8888888888888888, \"#fdca26\"], [1.0, \"#f0f921\"]], \"type\": \"heatmap\"}], \"heatmapgl\": [{\"colorbar\": {\"outlinewidth\": 0, \"ticks\": \"\"}, \"colorscale\": [[0.0, \"#0d0887\"], [0.1111111111111111, \"#46039f\"], [0.2222222222222222, \"#7201a8\"], [0.3333333333333333, \"#9c179e\"], [0.4444444444444444, \"#bd3786\"], [0.5555555555555556, \"#d8576b\"], [0.6666666666666666, \"#ed7953\"], [0.7777777777777778, \"#fb9f3a\"], [0.8888888888888888, \"#fdca26\"], [1.0, \"#f0f921\"]], \"type\": \"heatmapgl\"}], \"histogram\": [{\"marker\": {\"colorbar\": {\"outlinewidth\": 0, \"ticks\": \"\"}}, \"type\": \"histogram\"}], \"histogram2d\": [{\"colorbar\": {\"outlinewidth\": 0, \"ticks\": \"\"}, \"colorscale\": [[0.0, \"#0d0887\"], [0.1111111111111111, \"#46039f\"], [0.2222222222222222, \"#7201a8\"], [0.3333333333333333, \"#9c179e\"], [0.4444444444444444, \"#bd3786\"], [0.5555555555555556, \"#d8576b\"], [0.6666666666666666, \"#ed7953\"], [0.7777777777777778, \"#fb9f3a\"], [0.8888888888888888, \"#fdca26\"], [1.0, \"#f0f921\"]], \"type\": \"histogram2d\"}], \"histogram2dcontour\": [{\"colorbar\": {\"outlinewidth\": 0, \"ticks\": \"\"}, \"colorscale\": [[0.0, \"#0d0887\"], [0.1111111111111111, \"#46039f\"], [0.2222222222222222, \"#7201a8\"], [0.3333333333333333, \"#9c179e\"], [0.4444444444444444, \"#bd3786\"], [0.5555555555555556, \"#d8576b\"], [0.6666666666666666, \"#ed7953\"], [0.7777777777777778, \"#fb9f3a\"], [0.8888888888888888, \"#fdca26\"], [1.0, \"#f0f921\"]], \"type\": \"histogram2dcontour\"}], \"mesh3d\": [{\"colorbar\": {\"outlinewidth\": 0, \"ticks\": \"\"}, \"type\": \"mesh3d\"}], \"parcoords\": [{\"line\": {\"colorbar\": {\"outlinewidth\": 0, \"ticks\": \"\"}}, \"type\": \"parcoords\"}], \"pie\": [{\"automargin\": true, \"type\": \"pie\"}], \"scatter\": [{\"marker\": {\"colorbar\": {\"outlinewidth\": 0, \"ticks\": \"\"}}, \"type\": \"scatter\"}], \"scatter3d\": [{\"line\": {\"colorbar\": {\"outlinewidth\": 0, \"ticks\": \"\"}}, \"marker\": {\"colorbar\": {\"outlinewidth\": 0, \"ticks\": \"\"}}, \"type\": \"scatter3d\"}], \"scattercarpet\": [{\"marker\": {\"colorbar\": {\"outlinewidth\": 0, \"ticks\": \"\"}}, \"type\": \"scattercarpet\"}], \"scattergeo\": [{\"marker\": {\"colorbar\": {\"outlinewidth\": 0, \"ticks\": \"\"}}, \"type\": \"scattergeo\"}], \"scattergl\": [{\"marker\": {\"colorbar\": {\"outlinewidth\": 0, \"ticks\": \"\"}}, \"type\": \"scattergl\"}], \"scattermapbox\": [{\"marker\": {\"colorbar\": {\"outlinewidth\": 0, \"ticks\": \"\"}}, \"type\": \"scattermapbox\"}], \"scatterpolar\": [{\"marker\": {\"colorbar\": {\"outlinewidth\": 0, \"ticks\": \"\"}}, \"type\": \"scatterpolar\"}], \"scatterpolargl\": [{\"marker\": {\"colorbar\": {\"outlinewidth\": 0, \"ticks\": \"\"}}, \"type\": \"scatterpolargl\"}], \"scatterternary\": [{\"marker\": {\"colorbar\": {\"outlinewidth\": 0, \"ticks\": \"\"}}, \"type\": \"scatterternary\"}], \"surface\": [{\"colorbar\": {\"outlinewidth\": 0, \"ticks\": \"\"}, \"colorscale\": [[0.0, \"#0d0887\"], [0.1111111111111111, \"#46039f\"], [0.2222222222222222, \"#7201a8\"], [0.3333333333333333, \"#9c179e\"], [0.4444444444444444, \"#bd3786\"], [0.5555555555555556, \"#d8576b\"], [0.6666666666666666, \"#ed7953\"], [0.7777777777777778, \"#fb9f3a\"], [0.8888888888888888, \"#fdca26\"], [1.0, \"#f0f921\"]], \"type\": \"surface\"}], \"table\": [{\"cells\": {\"fill\": {\"color\": \"#EBF0F8\"}, \"line\": {\"color\": \"white\"}}, \"header\": {\"fill\": {\"color\": \"#C8D4E3\"}, \"line\": {\"color\": \"white\"}}, \"type\": \"table\"}]}, \"layout\": {\"annotationdefaults\": {\"arrowcolor\": \"#2a3f5f\", \"arrowhead\": 0, \"arrowwidth\": 1}, \"coloraxis\": {\"colorbar\": {\"outlinewidth\": 0, \"ticks\": \"\"}}, \"colorscale\": {\"diverging\": [[0, \"#8e0152\"], [0.1, \"#c51b7d\"], [0.2, \"#de77ae\"], [0.3, \"#f1b6da\"], [0.4, \"#fde0ef\"], [0.5, \"#f7f7f7\"], [0.6, \"#e6f5d0\"], [0.7, \"#b8e186\"], [0.8, \"#7fbc41\"], [0.9, \"#4d9221\"], [1, \"#276419\"]], \"sequential\": [[0.0, \"#0d0887\"], [0.1111111111111111, \"#46039f\"], [0.2222222222222222, \"#7201a8\"], [0.3333333333333333, \"#9c179e\"], [0.4444444444444444, \"#bd3786\"], [0.5555555555555556, \"#d8576b\"], [0.6666666666666666, \"#ed7953\"], [0.7777777777777778, \"#fb9f3a\"], [0.8888888888888888, \"#fdca26\"], [1.0, \"#f0f921\"]], \"sequentialminus\": [[0.0, \"#0d0887\"], [0.1111111111111111, \"#46039f\"], [0.2222222222222222, \"#7201a8\"], [0.3333333333333333, \"#9c179e\"], [0.4444444444444444, \"#bd3786\"], [0.5555555555555556, \"#d8576b\"], [0.6666666666666666, \"#ed7953\"], [0.7777777777777778, \"#fb9f3a\"], [0.8888888888888888, \"#fdca26\"], [1.0, \"#f0f921\"]]}, \"colorway\": [\"#636efa\", \"#EF553B\", \"#00cc96\", \"#ab63fa\", \"#FFA15A\", \"#19d3f3\", \"#FF6692\", \"#B6E880\", \"#FF97FF\", \"#FECB52\"], \"font\": {\"color\": \"#2a3f5f\"}, \"geo\": {\"bgcolor\": \"white\", \"lakecolor\": \"white\", \"landcolor\": \"#E5ECF6\", \"showlakes\": true, \"showland\": true, \"subunitcolor\": \"white\"}, \"hoverlabel\": {\"align\": \"left\"}, \"hovermode\": \"closest\", \"mapbox\": {\"style\": \"light\"}, \"paper_bgcolor\": \"white\", \"plot_bgcolor\": \"#E5ECF6\", \"polar\": {\"angularaxis\": {\"gridcolor\": \"white\", \"linecolor\": \"white\", \"ticks\": \"\"}, \"bgcolor\": \"#E5ECF6\", \"radialaxis\": {\"gridcolor\": \"white\", \"linecolor\": \"white\", \"ticks\": \"\"}}, \"scene\": {\"xaxis\": {\"backgroundcolor\": \"#E5ECF6\", \"gridcolor\": \"white\", \"gridwidth\": 2, \"linecolor\": \"white\", \"showbackground\": true, \"ticks\": \"\", \"zerolinecolor\": \"white\"}, \"yaxis\": {\"backgroundcolor\": \"#E5ECF6\", \"gridcolor\": \"white\", \"gridwidth\": 2, \"linecolor\": \"white\", \"showbackground\": true, \"ticks\": \"\", \"zerolinecolor\": \"white\"}, \"zaxis\": {\"backgroundcolor\": \"#E5ECF6\", \"gridcolor\": \"white\", \"gridwidth\": 2, \"linecolor\": \"white\", \"showbackground\": true, \"ticks\": \"\", \"zerolinecolor\": \"white\"}}, \"shapedefaults\": {\"line\": {\"color\": \"#2a3f5f\"}}, \"ternary\": {\"aaxis\": {\"gridcolor\": \"white\", \"linecolor\": \"white\", \"ticks\": \"\"}, \"baxis\": {\"gridcolor\": \"white\", \"linecolor\": \"white\", \"ticks\": \"\"}, \"bgcolor\": \"#E5ECF6\", \"caxis\": {\"gridcolor\": \"white\", \"linecolor\": \"white\", \"ticks\": \"\"}}, \"title\": {\"x\": 0.05}, \"xaxis\": {\"automargin\": true, \"gridcolor\": \"white\", \"linecolor\": \"white\", \"ticks\": \"\", \"title\": {\"standoff\": 15}, \"zerolinecolor\": \"white\", \"zerolinewidth\": 2}, \"yaxis\": {\"automargin\": true, \"gridcolor\": \"white\", \"linecolor\": \"white\", \"ticks\": \"\", \"title\": {\"standoff\": 15}, \"zerolinecolor\": \"white\", \"zerolinewidth\": 2}}}, \"title\": {\"text\": \"Topic Weights Over Time\"}, \"width\": 1200},\n",
       "                        {\"responsive\": true}\n",
       "                    ).then(function(){\n",
       "                            \n",
       "var gd = document.getElementById('8302d0c1-8436-433e-88b3-4fd4f60ae680');\n",
       "var x = new MutationObserver(function (mutations, observer) {{\n",
       "        var display = window.getComputedStyle(gd).display;\n",
       "        if (!display || display === 'none') {{\n",
       "            console.log([gd, 'removed!']);\n",
       "            Plotly.purge(gd);\n",
       "            observer.disconnect();\n",
       "        }}\n",
       "}});\n",
       "\n",
       "// Listen for the removal of the full notebook cells\n",
       "var notebookContainer = gd.closest('#notebook-container');\n",
       "if (notebookContainer) {{\n",
       "    x.observe(notebookContainer, {childList: true});\n",
       "}}\n",
       "\n",
       "// Listen for the clearing of the current output cell\n",
       "var outputEl = gd.closest('.output');\n",
       "if (outputEl) {{\n",
       "    x.observe(outputEl, {childList: true});\n",
       "}}\n",
       "\n",
       "                        })\n",
       "                };\n",
       "                });\n",
       "            </script>\n",
       "        </div>"
      ]
     },
     "metadata": {},
     "output_type": "display_data"
    }
   ],
   "source": [
    "import plotly\n",
    "import plotly.graph_objects as go\n",
    "\n",
    "#categories = ['Bloomberg Debate','Voter Poll','Iowa Caucus Result',\n",
    "#'Iowa Buttigieg', 'Buttigieg Klobuchar', 'Sanders Biden', 'Bloomberg Trump', 'Warren Woman']\n",
    "\n",
    "categories = ['Trump Sanders','Percent Steyer','People Just',\n",
    "              'Iowa Event', 'Biden Hampshire', 'Bloomberg Primary', 'Iowa Caucus Result', 'Buttigieg Warren']\n",
    "\n",
    "base_week_description = 'Week of 2-2-20'\n",
    "\n",
    "week_descriptions = ['Week of 1-26-20', 'Week of 2-9-20', 'Week of 2-16-20', 'Week of 2-23-20']\n",
    "\n",
    "plot_cats = categories\n",
    "plot_cats.append(categories[0])\n",
    "\n",
    "\n",
    "\n",
    "\n",
    "fig = go.Figure()\n",
    "\n",
    "fig.update_layout(\n",
    "    autosize=False,\n",
    "    width=1200,\n",
    "    height=1000,\n",
    "    margin=dict(\n",
    "        l=50,\n",
    "        r=50,\n",
    "        b=100,\n",
    "        t=100,\n",
    "        pad=4\n",
    "    ),\n",
    "    paper_bgcolor='rgba(0, 0, 0, 0)',\n",
    "    plot_bgcolor= 'rgba(0, 0, 0, 0)'\n",
    ")\n",
    "\n",
    "\n",
    "\n",
    "\n",
    "for i, week in enumerate(topic_other_weights[:1]) :\n",
    "    plot_dat = week\n",
    "    plot_dat.append(plot_dat[0])\n",
    "    fig.add_trace(go.Scatterpolar(\n",
    "          r=plot_dat,\n",
    "          theta=categories,\n",
    "#          fill='toself',\n",
    "          name= week_descriptions[i]\n",
    "    ))\n",
    "\n",
    "\n",
    "\n",
    "    \n",
    "plot_dat = topic_base_weights\n",
    "plot_dat.append(plot_dat[0])\n",
    "fig.add_trace(go.Scatterpolar(\n",
    "      r=plot_dat,\n",
    "      theta=plot_cats,\n",
    "#      fill='toself',\n",
    "      name= base_week_description\n",
    "))\n",
    "\n",
    "'''\n",
    "'''\n",
    " \n",
    "for i, week in enumerate(topic_other_weights[1:2]) :\n",
    "    plot_dat = week\n",
    "    plot_dat.append(plot_dat[0])\n",
    "    fig.add_trace(go.Scatterpolar(\n",
    "          r=plot_dat,\n",
    "          theta=categories,\n",
    "#          fill='toself',\n",
    "          name= week_descriptions[i+1]\n",
    "    ))\n",
    "\n",
    "\n",
    "    \n",
    "for i, week in enumerate(topic_other_weights[2:3]) :\n",
    "    plot_dat = week\n",
    "    plot_dat.append(plot_dat[0])\n",
    "    fig.add_trace(go.Scatterpolar(\n",
    "          r=plot_dat,\n",
    "          theta=categories,\n",
    "#          fill='toself',\n",
    "          name= week_descriptions[i+2]\n",
    "    ))\n",
    "'''    \n",
    "for i, week in enumerate(topic_other_weights[3:4]) :\n",
    "    plot_dat = week\n",
    "    plot_dat.append(plot_dat[0])\n",
    "    fig.add_trace(go.Scatterpolar(\n",
    "          r=plot_dat,\n",
    "          theta=categories,\n",
    "          fill='toself',\n",
    "          name= week_descriptions[i+3]\n",
    "    ))    \n",
    "\n",
    "'''    \n",
    "    \n",
    "'''\n",
    "layout = go.Layout(\n",
    "    polar = dict(\n",
    "        radialaxis_tickfont_size = 12,\n",
    "        radialaxis = dict(\n",
    "            visible = True,\n",
    "            range = [0,350],\n",
    "\n",
    "            ),\n",
    "        ),\n",
    "    font=dict(\n",
    "    family=\"Helvetica, monospace\",\n",
    "    size=10,\n",
    "    color=\"black\"\n",
    "    ))\n",
    "\n",
    "'''    \n",
    "\n",
    "\n",
    "layout = go.Layout(\n",
    "    polar = dict(\n",
    "      angularaxis = dict(\n",
    "        linewidth = 3,\n",
    "        showline=False,\n",
    "        linecolor='black'\n",
    "      ),\n",
    "      radialaxis_tickfont_size = 12,\n",
    "      radialaxis = dict(\n",
    "        range = [0,0.35],\n",
    "        showline = True,\n",
    "        linewidth = 2,\n",
    "        gridcolor = \"white\",\n",
    "        gridwidth = 2\n",
    "        \n",
    "      )\n",
    "    ),\n",
    "    font=dict(\n",
    "         family=\"Helvetica, monospace\",\n",
    "         size=10,\n",
    "         color=\"black\"\n",
    "      )\n",
    "\n",
    ")\n",
    "\n",
    "\n",
    "fig.update_layout(layout)\n",
    "\n",
    "    \n",
    "layout = go.Layout(\n",
    "    title=\"Topic Weights Over Time\",\n",
    "    \n",
    "    font=dict(\n",
    "        family=\"Helvetica, monospace\",\n",
    "        size=18,\n",
    "        color=\"Black\"\n",
    "    ),\n",
    "\n",
    "    showlegend=True,\n",
    "    legend_orientation='h'\n",
    ")\n",
    "\n",
    "fig.update_layout(layout)\n",
    "fig.show()"
   ]
  },
  {
   "cell_type": "code",
   "execution_count": 111,
   "metadata": {},
   "outputs": [
    {
     "data": {
      "application/vnd.plotly.v1+json": {
       "config": {
        "plotlyServerURL": "https://plot.ly"
       },
       "data": [
        {
         "fill": "toself",
         "name": "Subjectivity",
         "r": [
          0.40127664489023374,
          0.3984177266391821,
          0.40185857486755827,
          0.40219644159520496,
          0.39720335133813034,
          0.4073902971738242,
          0.4016815869130402,
          0.3988110344132186,
          0.40127664489023374
         ],
         "theta": [
          "Bloomberg Debate",
          "Voter Poll",
          "Iowa Caucus Result",
          "Iowa Buttigieg",
          "Buttigieg Klobuchar",
          "Sanders Biden",
          "Bloomberg Trump",
          "Buttigieg Warren",
          "Bloomberg Debate"
         ],
         "type": "scatterpolar"
        },
        {
         "fill": "toself",
         "name": "Polarity",
         "r": [
          0.111103799309806,
          0.12305872844736376,
          0.11293184330021297,
          0.12075994729898525,
          0.11238469771239093,
          0.10741625955161282,
          0.12086694751140058,
          0.11665126385382019,
          0.111103799309806
         ],
         "theta": [
          "Bloomberg Debate",
          "Voter Poll",
          "Iowa Caucus Result",
          "Iowa Buttigieg",
          "Buttigieg Klobuchar",
          "Sanders Biden",
          "Bloomberg Trump",
          "Buttigieg Warren",
          "Bloomberg Debate"
         ],
         "type": "scatterpolar"
        }
       ],
       "layout": {
        "autosize": false,
        "font": {
         "color": "Black",
         "family": "Helvetica, monospace",
         "size": 18
        },
        "height": 800,
        "legend": {
         "orientation": "h"
        },
        "margin": {
         "b": 100,
         "l": 50,
         "pad": 4,
         "r": 50,
         "t": 100
        },
        "paper_bgcolor": "rgba(0, 0, 0, 0)",
        "plot_bgcolor": "rgba(0, 0, 0, 0)",
        "polar": {
         "angularaxis": {
          "linecolor": "black",
          "linewidth": 3,
          "showline": false,
          "type": "category"
         },
         "radialaxis": {
          "autorange": false,
          "gridcolor": "white",
          "gridwidth": 2,
          "linewidth": 2,
          "range": [
           0,
           0.5
          ],
          "showline": true,
          "tickfont": {
           "size": 12
          },
          "type": "linear"
         }
        },
        "showlegend": true,
        "template": {
         "data": {
          "bar": [
           {
            "error_x": {
             "color": "#2a3f5f"
            },
            "error_y": {
             "color": "#2a3f5f"
            },
            "marker": {
             "line": {
              "color": "#E5ECF6",
              "width": 0.5
             }
            },
            "type": "bar"
           }
          ],
          "barpolar": [
           {
            "marker": {
             "line": {
              "color": "#E5ECF6",
              "width": 0.5
             }
            },
            "type": "barpolar"
           }
          ],
          "carpet": [
           {
            "aaxis": {
             "endlinecolor": "#2a3f5f",
             "gridcolor": "white",
             "linecolor": "white",
             "minorgridcolor": "white",
             "startlinecolor": "#2a3f5f"
            },
            "baxis": {
             "endlinecolor": "#2a3f5f",
             "gridcolor": "white",
             "linecolor": "white",
             "minorgridcolor": "white",
             "startlinecolor": "#2a3f5f"
            },
            "type": "carpet"
           }
          ],
          "choropleth": [
           {
            "colorbar": {
             "outlinewidth": 0,
             "ticks": ""
            },
            "type": "choropleth"
           }
          ],
          "contour": [
           {
            "colorbar": {
             "outlinewidth": 0,
             "ticks": ""
            },
            "colorscale": [
             [
              0,
              "#0d0887"
             ],
             [
              0.1111111111111111,
              "#46039f"
             ],
             [
              0.2222222222222222,
              "#7201a8"
             ],
             [
              0.3333333333333333,
              "#9c179e"
             ],
             [
              0.4444444444444444,
              "#bd3786"
             ],
             [
              0.5555555555555556,
              "#d8576b"
             ],
             [
              0.6666666666666666,
              "#ed7953"
             ],
             [
              0.7777777777777778,
              "#fb9f3a"
             ],
             [
              0.8888888888888888,
              "#fdca26"
             ],
             [
              1,
              "#f0f921"
             ]
            ],
            "type": "contour"
           }
          ],
          "contourcarpet": [
           {
            "colorbar": {
             "outlinewidth": 0,
             "ticks": ""
            },
            "type": "contourcarpet"
           }
          ],
          "heatmap": [
           {
            "colorbar": {
             "outlinewidth": 0,
             "ticks": ""
            },
            "colorscale": [
             [
              0,
              "#0d0887"
             ],
             [
              0.1111111111111111,
              "#46039f"
             ],
             [
              0.2222222222222222,
              "#7201a8"
             ],
             [
              0.3333333333333333,
              "#9c179e"
             ],
             [
              0.4444444444444444,
              "#bd3786"
             ],
             [
              0.5555555555555556,
              "#d8576b"
             ],
             [
              0.6666666666666666,
              "#ed7953"
             ],
             [
              0.7777777777777778,
              "#fb9f3a"
             ],
             [
              0.8888888888888888,
              "#fdca26"
             ],
             [
              1,
              "#f0f921"
             ]
            ],
            "type": "heatmap"
           }
          ],
          "heatmapgl": [
           {
            "colorbar": {
             "outlinewidth": 0,
             "ticks": ""
            },
            "colorscale": [
             [
              0,
              "#0d0887"
             ],
             [
              0.1111111111111111,
              "#46039f"
             ],
             [
              0.2222222222222222,
              "#7201a8"
             ],
             [
              0.3333333333333333,
              "#9c179e"
             ],
             [
              0.4444444444444444,
              "#bd3786"
             ],
             [
              0.5555555555555556,
              "#d8576b"
             ],
             [
              0.6666666666666666,
              "#ed7953"
             ],
             [
              0.7777777777777778,
              "#fb9f3a"
             ],
             [
              0.8888888888888888,
              "#fdca26"
             ],
             [
              1,
              "#f0f921"
             ]
            ],
            "type": "heatmapgl"
           }
          ],
          "histogram": [
           {
            "marker": {
             "colorbar": {
              "outlinewidth": 0,
              "ticks": ""
             }
            },
            "type": "histogram"
           }
          ],
          "histogram2d": [
           {
            "colorbar": {
             "outlinewidth": 0,
             "ticks": ""
            },
            "colorscale": [
             [
              0,
              "#0d0887"
             ],
             [
              0.1111111111111111,
              "#46039f"
             ],
             [
              0.2222222222222222,
              "#7201a8"
             ],
             [
              0.3333333333333333,
              "#9c179e"
             ],
             [
              0.4444444444444444,
              "#bd3786"
             ],
             [
              0.5555555555555556,
              "#d8576b"
             ],
             [
              0.6666666666666666,
              "#ed7953"
             ],
             [
              0.7777777777777778,
              "#fb9f3a"
             ],
             [
              0.8888888888888888,
              "#fdca26"
             ],
             [
              1,
              "#f0f921"
             ]
            ],
            "type": "histogram2d"
           }
          ],
          "histogram2dcontour": [
           {
            "colorbar": {
             "outlinewidth": 0,
             "ticks": ""
            },
            "colorscale": [
             [
              0,
              "#0d0887"
             ],
             [
              0.1111111111111111,
              "#46039f"
             ],
             [
              0.2222222222222222,
              "#7201a8"
             ],
             [
              0.3333333333333333,
              "#9c179e"
             ],
             [
              0.4444444444444444,
              "#bd3786"
             ],
             [
              0.5555555555555556,
              "#d8576b"
             ],
             [
              0.6666666666666666,
              "#ed7953"
             ],
             [
              0.7777777777777778,
              "#fb9f3a"
             ],
             [
              0.8888888888888888,
              "#fdca26"
             ],
             [
              1,
              "#f0f921"
             ]
            ],
            "type": "histogram2dcontour"
           }
          ],
          "mesh3d": [
           {
            "colorbar": {
             "outlinewidth": 0,
             "ticks": ""
            },
            "type": "mesh3d"
           }
          ],
          "parcoords": [
           {
            "line": {
             "colorbar": {
              "outlinewidth": 0,
              "ticks": ""
             }
            },
            "type": "parcoords"
           }
          ],
          "pie": [
           {
            "automargin": true,
            "type": "pie"
           }
          ],
          "scatter": [
           {
            "marker": {
             "colorbar": {
              "outlinewidth": 0,
              "ticks": ""
             }
            },
            "type": "scatter"
           }
          ],
          "scatter3d": [
           {
            "line": {
             "colorbar": {
              "outlinewidth": 0,
              "ticks": ""
             }
            },
            "marker": {
             "colorbar": {
              "outlinewidth": 0,
              "ticks": ""
             }
            },
            "type": "scatter3d"
           }
          ],
          "scattercarpet": [
           {
            "marker": {
             "colorbar": {
              "outlinewidth": 0,
              "ticks": ""
             }
            },
            "type": "scattercarpet"
           }
          ],
          "scattergeo": [
           {
            "marker": {
             "colorbar": {
              "outlinewidth": 0,
              "ticks": ""
             }
            },
            "type": "scattergeo"
           }
          ],
          "scattergl": [
           {
            "marker": {
             "colorbar": {
              "outlinewidth": 0,
              "ticks": ""
             }
            },
            "type": "scattergl"
           }
          ],
          "scattermapbox": [
           {
            "marker": {
             "colorbar": {
              "outlinewidth": 0,
              "ticks": ""
             }
            },
            "type": "scattermapbox"
           }
          ],
          "scatterpolar": [
           {
            "marker": {
             "colorbar": {
              "outlinewidth": 0,
              "ticks": ""
             }
            },
            "type": "scatterpolar"
           }
          ],
          "scatterpolargl": [
           {
            "marker": {
             "colorbar": {
              "outlinewidth": 0,
              "ticks": ""
             }
            },
            "type": "scatterpolargl"
           }
          ],
          "scatterternary": [
           {
            "marker": {
             "colorbar": {
              "outlinewidth": 0,
              "ticks": ""
             }
            },
            "type": "scatterternary"
           }
          ],
          "surface": [
           {
            "colorbar": {
             "outlinewidth": 0,
             "ticks": ""
            },
            "colorscale": [
             [
              0,
              "#0d0887"
             ],
             [
              0.1111111111111111,
              "#46039f"
             ],
             [
              0.2222222222222222,
              "#7201a8"
             ],
             [
              0.3333333333333333,
              "#9c179e"
             ],
             [
              0.4444444444444444,
              "#bd3786"
             ],
             [
              0.5555555555555556,
              "#d8576b"
             ],
             [
              0.6666666666666666,
              "#ed7953"
             ],
             [
              0.7777777777777778,
              "#fb9f3a"
             ],
             [
              0.8888888888888888,
              "#fdca26"
             ],
             [
              1,
              "#f0f921"
             ]
            ],
            "type": "surface"
           }
          ],
          "table": [
           {
            "cells": {
             "fill": {
              "color": "#EBF0F8"
             },
             "line": {
              "color": "white"
             }
            },
            "header": {
             "fill": {
              "color": "#C8D4E3"
             },
             "line": {
              "color": "white"
             }
            },
            "type": "table"
           }
          ]
         },
         "layout": {
          "annotationdefaults": {
           "arrowcolor": "#2a3f5f",
           "arrowhead": 0,
           "arrowwidth": 1
          },
          "coloraxis": {
           "colorbar": {
            "outlinewidth": 0,
            "ticks": ""
           }
          },
          "colorscale": {
           "diverging": [
            [
             0,
             "#8e0152"
            ],
            [
             0.1,
             "#c51b7d"
            ],
            [
             0.2,
             "#de77ae"
            ],
            [
             0.3,
             "#f1b6da"
            ],
            [
             0.4,
             "#fde0ef"
            ],
            [
             0.5,
             "#f7f7f7"
            ],
            [
             0.6,
             "#e6f5d0"
            ],
            [
             0.7,
             "#b8e186"
            ],
            [
             0.8,
             "#7fbc41"
            ],
            [
             0.9,
             "#4d9221"
            ],
            [
             1,
             "#276419"
            ]
           ],
           "sequential": [
            [
             0,
             "#0d0887"
            ],
            [
             0.1111111111111111,
             "#46039f"
            ],
            [
             0.2222222222222222,
             "#7201a8"
            ],
            [
             0.3333333333333333,
             "#9c179e"
            ],
            [
             0.4444444444444444,
             "#bd3786"
            ],
            [
             0.5555555555555556,
             "#d8576b"
            ],
            [
             0.6666666666666666,
             "#ed7953"
            ],
            [
             0.7777777777777778,
             "#fb9f3a"
            ],
            [
             0.8888888888888888,
             "#fdca26"
            ],
            [
             1,
             "#f0f921"
            ]
           ],
           "sequentialminus": [
            [
             0,
             "#0d0887"
            ],
            [
             0.1111111111111111,
             "#46039f"
            ],
            [
             0.2222222222222222,
             "#7201a8"
            ],
            [
             0.3333333333333333,
             "#9c179e"
            ],
            [
             0.4444444444444444,
             "#bd3786"
            ],
            [
             0.5555555555555556,
             "#d8576b"
            ],
            [
             0.6666666666666666,
             "#ed7953"
            ],
            [
             0.7777777777777778,
             "#fb9f3a"
            ],
            [
             0.8888888888888888,
             "#fdca26"
            ],
            [
             1,
             "#f0f921"
            ]
           ]
          },
          "colorway": [
           "#636efa",
           "#EF553B",
           "#00cc96",
           "#ab63fa",
           "#FFA15A",
           "#19d3f3",
           "#FF6692",
           "#B6E880",
           "#FF97FF",
           "#FECB52"
          ],
          "font": {
           "color": "#2a3f5f"
          },
          "geo": {
           "bgcolor": "white",
           "lakecolor": "white",
           "landcolor": "#E5ECF6",
           "showlakes": true,
           "showland": true,
           "subunitcolor": "white"
          },
          "hoverlabel": {
           "align": "left"
          },
          "hovermode": "closest",
          "mapbox": {
           "style": "light"
          },
          "paper_bgcolor": "white",
          "plot_bgcolor": "#E5ECF6",
          "polar": {
           "angularaxis": {
            "gridcolor": "white",
            "linecolor": "white",
            "ticks": ""
           },
           "bgcolor": "#E5ECF6",
           "radialaxis": {
            "gridcolor": "white",
            "linecolor": "white",
            "ticks": ""
           }
          },
          "scene": {
           "xaxis": {
            "backgroundcolor": "#E5ECF6",
            "gridcolor": "white",
            "gridwidth": 2,
            "linecolor": "white",
            "showbackground": true,
            "ticks": "",
            "zerolinecolor": "white"
           },
           "yaxis": {
            "backgroundcolor": "#E5ECF6",
            "gridcolor": "white",
            "gridwidth": 2,
            "linecolor": "white",
            "showbackground": true,
            "ticks": "",
            "zerolinecolor": "white"
           },
           "zaxis": {
            "backgroundcolor": "#E5ECF6",
            "gridcolor": "white",
            "gridwidth": 2,
            "linecolor": "white",
            "showbackground": true,
            "ticks": "",
            "zerolinecolor": "white"
           }
          },
          "shapedefaults": {
           "line": {
            "color": "#2a3f5f"
           }
          },
          "ternary": {
           "aaxis": {
            "gridcolor": "white",
            "linecolor": "white",
            "ticks": ""
           },
           "baxis": {
            "gridcolor": "white",
            "linecolor": "white",
            "ticks": ""
           },
           "bgcolor": "#E5ECF6",
           "caxis": {
            "gridcolor": "white",
            "linecolor": "white",
            "ticks": ""
           }
          },
          "title": {
           "x": 0.05
          },
          "xaxis": {
           "automargin": true,
           "gridcolor": "white",
           "linecolor": "white",
           "ticks": "",
           "title": {
            "standoff": 15
           },
           "zerolinecolor": "white",
           "zerolinewidth": 2
          },
          "yaxis": {
           "automargin": true,
           "gridcolor": "white",
           "linecolor": "white",
           "ticks": "",
           "title": {
            "standoff": 15
           },
           "zerolinecolor": "white",
           "zerolinewidth": 2
          }
         }
        },
        "title": {
         "text": "Sentiments for Full Corpus"
        },
        "width": 1200
       }
      },
      "image/png": "[encoded data removed]",
      "text/html": [
       "<div>\n",
       "        \n",
       "        \n",
       "            <div id=\"fc9db34e-4906-47c6-810c-a2746445829e\" class=\"plotly-graph-div\" style=\"height:800px; width:1200px;\"></div>\n",
       "            <script type=\"text/javascript\">\n",
       "                require([\"plotly\"], function(Plotly) {\n",
       "                    window.PLOTLYENV=window.PLOTLYENV || {};\n",
       "                    \n",
       "                if (document.getElementById(\"fc9db34e-4906-47c6-810c-a2746445829e\")) {\n",
       "                    Plotly.newPlot(\n",
       "                        'fc9db34e-4906-47c6-810c-a2746445829e',\n",
       "                        [{\"fill\": \"toself\", \"name\": \"Subjectivity\", \"r\": [0.40127664489023374, 0.3984177266391821, 0.40185857486755827, 0.40219644159520496, 0.39720335133813034, 0.4073902971738242, 0.4016815869130402, 0.3988110344132186, 0.40127664489023374], \"theta\": [\"Bloomberg Debate\", \"Voter Poll\", \"Iowa Caucus Result\", \"Iowa Buttigieg\", \"Buttigieg Klobuchar\", \"Sanders Biden\", \"Bloomberg Trump\", \"Buttigieg Warren\", \"Bloomberg Debate\"], \"type\": \"scatterpolar\"}, {\"fill\": \"toself\", \"name\": \"Polarity\", \"r\": [0.111103799309806, 0.12305872844736376, 0.11293184330021297, 0.12075994729898525, 0.11238469771239093, 0.10741625955161282, 0.12086694751140058, 0.11665126385382019, 0.111103799309806], \"theta\": [\"Bloomberg Debate\", \"Voter Poll\", \"Iowa Caucus Result\", \"Iowa Buttigieg\", \"Buttigieg Klobuchar\", \"Sanders Biden\", \"Bloomberg Trump\", \"Buttigieg Warren\", \"Bloomberg Debate\"], \"type\": \"scatterpolar\"}],\n",
       "                        {\"autosize\": false, \"font\": {\"color\": \"Black\", \"family\": \"Helvetica, monospace\", \"size\": 18}, \"height\": 800, \"legend\": {\"orientation\": \"h\"}, \"margin\": {\"b\": 100, \"l\": 50, \"pad\": 4, \"r\": 50, \"t\": 100}, \"paper_bgcolor\": \"rgba(0, 0, 0, 0)\", \"plot_bgcolor\": \"rgba(0, 0, 0, 0)\", \"polar\": {\"angularaxis\": {\"linecolor\": \"black\", \"linewidth\": 3, \"showline\": false}, \"radialaxis\": {\"gridcolor\": \"white\", \"gridwidth\": 2, \"linewidth\": 2, \"range\": [0, 0.5], \"showline\": true, \"tickfont\": {\"size\": 12}}}, \"showlegend\": true, \"template\": {\"data\": {\"bar\": [{\"error_x\": {\"color\": \"#2a3f5f\"}, \"error_y\": {\"color\": \"#2a3f5f\"}, \"marker\": {\"line\": {\"color\": \"#E5ECF6\", \"width\": 0.5}}, \"type\": \"bar\"}], \"barpolar\": [{\"marker\": {\"line\": {\"color\": \"#E5ECF6\", \"width\": 0.5}}, \"type\": \"barpolar\"}], \"carpet\": [{\"aaxis\": {\"endlinecolor\": \"#2a3f5f\", \"gridcolor\": \"white\", \"linecolor\": \"white\", \"minorgridcolor\": \"white\", \"startlinecolor\": \"#2a3f5f\"}, \"baxis\": {\"endlinecolor\": \"#2a3f5f\", \"gridcolor\": \"white\", \"linecolor\": \"white\", \"minorgridcolor\": \"white\", \"startlinecolor\": \"#2a3f5f\"}, \"type\": \"carpet\"}], \"choropleth\": [{\"colorbar\": {\"outlinewidth\": 0, \"ticks\": \"\"}, \"type\": \"choropleth\"}], \"contour\": [{\"colorbar\": {\"outlinewidth\": 0, \"ticks\": \"\"}, \"colorscale\": [[0.0, \"#0d0887\"], [0.1111111111111111, \"#46039f\"], [0.2222222222222222, \"#7201a8\"], [0.3333333333333333, \"#9c179e\"], [0.4444444444444444, \"#bd3786\"], [0.5555555555555556, \"#d8576b\"], [0.6666666666666666, \"#ed7953\"], [0.7777777777777778, \"#fb9f3a\"], [0.8888888888888888, \"#fdca26\"], [1.0, \"#f0f921\"]], \"type\": \"contour\"}], \"contourcarpet\": [{\"colorbar\": {\"outlinewidth\": 0, \"ticks\": \"\"}, \"type\": \"contourcarpet\"}], \"heatmap\": [{\"colorbar\": {\"outlinewidth\": 0, \"ticks\": \"\"}, \"colorscale\": [[0.0, \"#0d0887\"], [0.1111111111111111, \"#46039f\"], [0.2222222222222222, \"#7201a8\"], [0.3333333333333333, \"#9c179e\"], [0.4444444444444444, \"#bd3786\"], [0.5555555555555556, \"#d8576b\"], [0.6666666666666666, \"#ed7953\"], [0.7777777777777778, \"#fb9f3a\"], [0.8888888888888888, \"#fdca26\"], [1.0, \"#f0f921\"]], \"type\": \"heatmap\"}], \"heatmapgl\": [{\"colorbar\": {\"outlinewidth\": 0, \"ticks\": \"\"}, \"colorscale\": [[0.0, \"#0d0887\"], [0.1111111111111111, \"#46039f\"], [0.2222222222222222, \"#7201a8\"], [0.3333333333333333, \"#9c179e\"], [0.4444444444444444, \"#bd3786\"], [0.5555555555555556, \"#d8576b\"], [0.6666666666666666, \"#ed7953\"], [0.7777777777777778, \"#fb9f3a\"], [0.8888888888888888, \"#fdca26\"], [1.0, \"#f0f921\"]], \"type\": \"heatmapgl\"}], \"histogram\": [{\"marker\": {\"colorbar\": {\"outlinewidth\": 0, \"ticks\": \"\"}}, \"type\": \"histogram\"}], \"histogram2d\": [{\"colorbar\": {\"outlinewidth\": 0, \"ticks\": \"\"}, \"colorscale\": [[0.0, \"#0d0887\"], [0.1111111111111111, \"#46039f\"], [0.2222222222222222, \"#7201a8\"], [0.3333333333333333, \"#9c179e\"], [0.4444444444444444, \"#bd3786\"], [0.5555555555555556, \"#d8576b\"], [0.6666666666666666, \"#ed7953\"], [0.7777777777777778, \"#fb9f3a\"], [0.8888888888888888, \"#fdca26\"], [1.0, \"#f0f921\"]], \"type\": \"histogram2d\"}], \"histogram2dcontour\": [{\"colorbar\": {\"outlinewidth\": 0, \"ticks\": \"\"}, \"colorscale\": [[0.0, \"#0d0887\"], [0.1111111111111111, \"#46039f\"], [0.2222222222222222, \"#7201a8\"], [0.3333333333333333, \"#9c179e\"], [0.4444444444444444, \"#bd3786\"], [0.5555555555555556, \"#d8576b\"], [0.6666666666666666, \"#ed7953\"], [0.7777777777777778, \"#fb9f3a\"], [0.8888888888888888, \"#fdca26\"], [1.0, \"#f0f921\"]], \"type\": \"histogram2dcontour\"}], \"mesh3d\": [{\"colorbar\": {\"outlinewidth\": 0, \"ticks\": \"\"}, \"type\": \"mesh3d\"}], \"parcoords\": [{\"line\": {\"colorbar\": {\"outlinewidth\": 0, \"ticks\": \"\"}}, \"type\": \"parcoords\"}], \"pie\": [{\"automargin\": true, \"type\": \"pie\"}], \"scatter\": [{\"marker\": {\"colorbar\": {\"outlinewidth\": 0, \"ticks\": \"\"}}, \"type\": \"scatter\"}], \"scatter3d\": [{\"line\": {\"colorbar\": {\"outlinewidth\": 0, \"ticks\": \"\"}}, \"marker\": {\"colorbar\": {\"outlinewidth\": 0, \"ticks\": \"\"}}, \"type\": \"scatter3d\"}], \"scattercarpet\": [{\"marker\": {\"colorbar\": {\"outlinewidth\": 0, \"ticks\": \"\"}}, \"type\": \"scattercarpet\"}], \"scattergeo\": [{\"marker\": {\"colorbar\": {\"outlinewidth\": 0, \"ticks\": \"\"}}, \"type\": \"scattergeo\"}], \"scattergl\": [{\"marker\": {\"colorbar\": {\"outlinewidth\": 0, \"ticks\": \"\"}}, \"type\": \"scattergl\"}], \"scattermapbox\": [{\"marker\": {\"colorbar\": {\"outlinewidth\": 0, \"ticks\": \"\"}}, \"type\": \"scattermapbox\"}], \"scatterpolar\": [{\"marker\": {\"colorbar\": {\"outlinewidth\": 0, \"ticks\": \"\"}}, \"type\": \"scatterpolar\"}], \"scatterpolargl\": [{\"marker\": {\"colorbar\": {\"outlinewidth\": 0, \"ticks\": \"\"}}, \"type\": \"scatterpolargl\"}], \"scatterternary\": [{\"marker\": {\"colorbar\": {\"outlinewidth\": 0, \"ticks\": \"\"}}, \"type\": \"scatterternary\"}], \"surface\": [{\"colorbar\": {\"outlinewidth\": 0, \"ticks\": \"\"}, \"colorscale\": [[0.0, \"#0d0887\"], [0.1111111111111111, \"#46039f\"], [0.2222222222222222, \"#7201a8\"], [0.3333333333333333, \"#9c179e\"], [0.4444444444444444, \"#bd3786\"], [0.5555555555555556, \"#d8576b\"], [0.6666666666666666, \"#ed7953\"], [0.7777777777777778, \"#fb9f3a\"], [0.8888888888888888, \"#fdca26\"], [1.0, \"#f0f921\"]], \"type\": \"surface\"}], \"table\": [{\"cells\": {\"fill\": {\"color\": \"#EBF0F8\"}, \"line\": {\"color\": \"white\"}}, \"header\": {\"fill\": {\"color\": \"#C8D4E3\"}, \"line\": {\"color\": \"white\"}}, \"type\": \"table\"}]}, \"layout\": {\"annotationdefaults\": {\"arrowcolor\": \"#2a3f5f\", \"arrowhead\": 0, \"arrowwidth\": 1}, \"coloraxis\": {\"colorbar\": {\"outlinewidth\": 0, \"ticks\": \"\"}}, \"colorscale\": {\"diverging\": [[0, \"#8e0152\"], [0.1, \"#c51b7d\"], [0.2, \"#de77ae\"], [0.3, \"#f1b6da\"], [0.4, \"#fde0ef\"], [0.5, \"#f7f7f7\"], [0.6, \"#e6f5d0\"], [0.7, \"#b8e186\"], [0.8, \"#7fbc41\"], [0.9, \"#4d9221\"], [1, \"#276419\"]], \"sequential\": [[0.0, \"#0d0887\"], [0.1111111111111111, \"#46039f\"], [0.2222222222222222, \"#7201a8\"], [0.3333333333333333, \"#9c179e\"], [0.4444444444444444, \"#bd3786\"], [0.5555555555555556, \"#d8576b\"], [0.6666666666666666, \"#ed7953\"], [0.7777777777777778, \"#fb9f3a\"], [0.8888888888888888, \"#fdca26\"], [1.0, \"#f0f921\"]], \"sequentialminus\": [[0.0, \"#0d0887\"], [0.1111111111111111, \"#46039f\"], [0.2222222222222222, \"#7201a8\"], [0.3333333333333333, \"#9c179e\"], [0.4444444444444444, \"#bd3786\"], [0.5555555555555556, \"#d8576b\"], [0.6666666666666666, \"#ed7953\"], [0.7777777777777778, \"#fb9f3a\"], [0.8888888888888888, \"#fdca26\"], [1.0, \"#f0f921\"]]}, \"colorway\": [\"#636efa\", \"#EF553B\", \"#00cc96\", \"#ab63fa\", \"#FFA15A\", \"#19d3f3\", \"#FF6692\", \"#B6E880\", \"#FF97FF\", \"#FECB52\"], \"font\": {\"color\": \"#2a3f5f\"}, \"geo\": {\"bgcolor\": \"white\", \"lakecolor\": \"white\", \"landcolor\": \"#E5ECF6\", \"showlakes\": true, \"showland\": true, \"subunitcolor\": \"white\"}, \"hoverlabel\": {\"align\": \"left\"}, \"hovermode\": \"closest\", \"mapbox\": {\"style\": \"light\"}, \"paper_bgcolor\": \"white\", \"plot_bgcolor\": \"#E5ECF6\", \"polar\": {\"angularaxis\": {\"gridcolor\": \"white\", \"linecolor\": \"white\", \"ticks\": \"\"}, \"bgcolor\": \"#E5ECF6\", \"radialaxis\": {\"gridcolor\": \"white\", \"linecolor\": \"white\", \"ticks\": \"\"}}, \"scene\": {\"xaxis\": {\"backgroundcolor\": \"#E5ECF6\", \"gridcolor\": \"white\", \"gridwidth\": 2, \"linecolor\": \"white\", \"showbackground\": true, \"ticks\": \"\", \"zerolinecolor\": \"white\"}, \"yaxis\": {\"backgroundcolor\": \"#E5ECF6\", \"gridcolor\": \"white\", \"gridwidth\": 2, \"linecolor\": \"white\", \"showbackground\": true, \"ticks\": \"\", \"zerolinecolor\": \"white\"}, \"zaxis\": {\"backgroundcolor\": \"#E5ECF6\", \"gridcolor\": \"white\", \"gridwidth\": 2, \"linecolor\": \"white\", \"showbackground\": true, \"ticks\": \"\", \"zerolinecolor\": \"white\"}}, \"shapedefaults\": {\"line\": {\"color\": \"#2a3f5f\"}}, \"ternary\": {\"aaxis\": {\"gridcolor\": \"white\", \"linecolor\": \"white\", \"ticks\": \"\"}, \"baxis\": {\"gridcolor\": \"white\", \"linecolor\": \"white\", \"ticks\": \"\"}, \"bgcolor\": \"#E5ECF6\", \"caxis\": {\"gridcolor\": \"white\", \"linecolor\": \"white\", \"ticks\": \"\"}}, \"title\": {\"x\": 0.05}, \"xaxis\": {\"automargin\": true, \"gridcolor\": \"white\", \"linecolor\": \"white\", \"ticks\": \"\", \"title\": {\"standoff\": 15}, \"zerolinecolor\": \"white\", \"zerolinewidth\": 2}, \"yaxis\": {\"automargin\": true, \"gridcolor\": \"white\", \"linecolor\": \"white\", \"ticks\": \"\", \"title\": {\"standoff\": 15}, \"zerolinecolor\": \"white\", \"zerolinewidth\": 2}}}, \"title\": {\"text\": \"Sentiments for Full Corpus\"}, \"width\": 1200},\n",
       "                        {\"responsive\": true}\n",
       "                    ).then(function(){\n",
       "                            \n",
       "var gd = document.getElementById('fc9db34e-4906-47c6-810c-a2746445829e');\n",
       "var x = new MutationObserver(function (mutations, observer) {{\n",
       "        var display = window.getComputedStyle(gd).display;\n",
       "        if (!display || display === 'none') {{\n",
       "            console.log([gd, 'removed!']);\n",
       "            Plotly.purge(gd);\n",
       "            observer.disconnect();\n",
       "        }}\n",
       "}});\n",
       "\n",
       "// Listen for the removal of the full notebook cells\n",
       "var notebookContainer = gd.closest('#notebook-container');\n",
       "if (notebookContainer) {{\n",
       "    x.observe(notebookContainer, {childList: true});\n",
       "}}\n",
       "\n",
       "// Listen for the clearing of the current output cell\n",
       "var outputEl = gd.closest('.output');\n",
       "if (outputEl) {{\n",
       "    x.observe(outputEl, {childList: true});\n",
       "}}\n",
       "\n",
       "                        })\n",
       "                };\n",
       "                });\n",
       "            </script>\n",
       "        </div>"
      ]
     },
     "metadata": {},
     "output_type": "display_data"
    }
   ],
   "source": [
    "import plotly\n",
    "import plotly.graph_objects as go\n",
    "\n",
    "categories = ['Bloomberg Debate','Voter Poll','Iowa Caucus Result',\n",
    "              'Iowa Buttigieg', 'Buttigieg Klobuchar', 'Sanders Biden', 'Bloomberg Trump', 'Buttigieg Warren']\n",
    "\n",
    "base_week_description = 'Full Corpus'\n",
    "\n",
    "week_descriptions = ['Week of 1-26-20', 'Week of 2-9-20', 'Week of 2-16-20', 'Week of 2-23-20']\n",
    "\n",
    "plot_cats = categories\n",
    "plot_cats.append(categories[0])\n",
    "\n",
    "\n",
    "\n",
    "\n",
    "fig = go.Figure()\n",
    "\n",
    "fig.update_layout(\n",
    "    autosize=False,\n",
    "    width=1200,\n",
    "    height=800,\n",
    "    margin=dict(\n",
    "        l=50,\n",
    "        r=50,\n",
    "        b=100,\n",
    "        t=100,\n",
    "        pad=4\n",
    "    ),\n",
    "    paper_bgcolor='rgba(0, 0, 0, 0)',\n",
    "    plot_bgcolor= 'rgba(0, 0, 0, 0)'\n",
    ")\n",
    "\n",
    "\n",
    "'''\n",
    "\n",
    "for i, week in enumerate(topic_other_weights[:1]) :\n",
    "    plot_dat = week\n",
    "    plot_dat.append(plot_dat[0])\n",
    "    fig.add_trace(go.Scatterpolar(\n",
    "          r=plot_dat,\n",
    "          theta=categories,\n",
    "#          fill='toself',\n",
    "          name= week_descriptions[i]\n",
    "    ))\n",
    "'''\n",
    "\n",
    "\n",
    "    \n",
    "plot_dat = list(base_subjectivity)\n",
    "plot_dat.append(plot_dat[0])\n",
    "fig.add_trace(go.Scatterpolar(\n",
    "      r=plot_dat,\n",
    "      theta=plot_cats,\n",
    "      fill='toself',\n",
    "      name= 'Subjectivity'\n",
    "))\n",
    "\n",
    "plot_dat = list(base_polarity)\n",
    "plot_dat.append(plot_dat[0])\n",
    "fig.add_trace(go.Scatterpolar(\n",
    "      r=plot_dat,\n",
    "      theta=plot_cats,\n",
    "      fill='toself',\n",
    "      name= 'Polarity'\n",
    "))\n",
    "\n",
    "''' \n",
    "for i, week in enumerate(topic_other_weights[1:2]) :\n",
    "    plot_dat = week\n",
    "    plot_dat.append(plot_dat[0])\n",
    "    fig.add_trace(go.Scatterpolar(\n",
    "          r=plot_dat,\n",
    "          theta=categories,\n",
    "#          fill='toself',\n",
    "          name= week_descriptions[i+1]\n",
    "    ))\n",
    "\n",
    "\n",
    "    \n",
    "for i, week in enumerate(topic_other_weights[2:3]) :\n",
    "    plot_dat = week\n",
    "    plot_dat.append(plot_dat[0])\n",
    "    fig.add_trace(go.Scatterpolar(\n",
    "          r=plot_dat,\n",
    "          theta=categories,\n",
    "#          fill='toself',\n",
    "          name= week_descriptions[i+2]\n",
    "    ))\n",
    "    \n",
    "for i, week in enumerate(topic_other_weights[3:4]) :\n",
    "    plot_dat = week\n",
    "    plot_dat.append(plot_dat[0])\n",
    "    fig.add_trace(go.Scatterpolar(\n",
    "          r=plot_dat,\n",
    "          theta=categories,\n",
    "          fill='toself',\n",
    "          name= week_descriptions[i+3]\n",
    "    ))    \n",
    "\n",
    "'''    \n",
    "    \n",
    "'''\n",
    "layout = go.Layout(\n",
    "    polar = dict(\n",
    "        radialaxis_tickfont_size = 12,\n",
    "        radialaxis = dict(\n",
    "            visible = True,\n",
    "            range = [0,350],\n",
    "\n",
    "            ),\n",
    "        ),\n",
    "    font=dict(\n",
    "    family=\"Helvetica, monospace\",\n",
    "    size=10,\n",
    "    color=\"black\"\n",
    "    ))\n",
    "\n",
    "'''    \n",
    "\n",
    "\n",
    "layout = go.Layout(\n",
    "    polar = dict(\n",
    "      angularaxis = dict(\n",
    "        linewidth = 3,\n",
    "        showline=False,\n",
    "        linecolor='black'\n",
    "      ),\n",
    "      radialaxis_tickfont_size = 12,\n",
    "      radialaxis = dict(\n",
    "        range = [0,0.5],\n",
    "        showline = True,\n",
    "        linewidth = 2,\n",
    "        gridcolor = \"white\",\n",
    "        gridwidth = 2\n",
    "        \n",
    "      )\n",
    "    ),\n",
    "    font=dict(\n",
    "         family=\"Helvetica, monospace\",\n",
    "         size=10,\n",
    "         color=\"black\"\n",
    "      )\n",
    "\n",
    ")\n",
    "\n",
    "\n",
    "fig.update_layout(layout)\n",
    "\n",
    "    \n",
    "layout = go.Layout(\n",
    "    title=\"Sentiments for Full Corpus\",\n",
    "    \n",
    "    font=dict(\n",
    "        family=\"Helvetica, monospace\",\n",
    "        size=18,\n",
    "        color=\"Black\"\n",
    "    ),\n",
    "\n",
    "    showlegend=True,\n",
    "    legend_orientation='h'\n",
    ")\n",
    "\n",
    "fig.update_layout(layout)\n",
    "fig.show()"
   ]
  },
  {
   "cell_type": "code",
   "execution_count": 29,
   "metadata": {},
   "outputs": [
    {
     "data": {
      "text/plain": [
       "array([ 81.71047255,  51.38030811, 148.3873214 ,  40.63697206,\n",
       "       107.24878611,  71.0826246 ,  30.397209  ,  65.15630617])"
      ]
     },
     "execution_count": 29,
     "metadata": {},
     "output_type": "execute_result"
    }
   ],
   "source": [
    "plot_dat"
   ]
  },
  {
   "cell_type": "code",
   "execution_count": null,
   "metadata": {},
   "outputs": [],
   "source": []
  },
  {
   "cell_type": "code",
   "execution_count": null,
   "metadata": {},
   "outputs": [],
   "source": []
  }
 ],
 "metadata": {
  "kernelspec": {
   "display_name": "Python 3",
   "language": "python",
   "name": "python3"
  },
  "language_info": {
   "codemirror_mode": {
    "name": "ipython",
    "version": 3
   },
   "file_extension": ".py",
   "mimetype": "text/x-python",
   "name": "python",
   "nbconvert_exporter": "python",
   "pygments_lexer": "ipython3",
   "version": "3.7.4"
  }
 },
 "nbformat": 4,
 "nbformat_minor": 4
}
